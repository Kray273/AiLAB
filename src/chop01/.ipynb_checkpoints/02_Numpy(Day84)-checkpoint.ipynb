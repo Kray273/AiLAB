{
 "cells": [
  {
   "cell_type": "markdown",
   "id": "0a04c427",
   "metadata": {},
   "source": [
    "# Numpy ndarray개요"
   ]
  },
  {
   "cell_type": "code",
   "execution_count": 3,
   "id": "1dac8656",
   "metadata": {},
   "outputs": [],
   "source": [
    "import numpy as np # 라이브러리 임포트\n",
    "import matplotlib.pyplot as plt #모듈 임포트 "
   ]
  },
  {
   "cell_type": "markdown",
   "id": "b15c3b8d",
   "metadata": {},
   "source": [
    "### - 배열 생성\n",
    "##### : 동일한 자료형을 가진 연속된 데이터를 저장하기 위한 메모리를 요청해서 하나의 이름으로 관리할 수 있도록 제공하는 자료형"
   ]
  },
  {
   "cell_type": "code",
   "execution_count": 7,
   "id": "1a8364de",
   "metadata": {},
   "outputs": [
    {
     "name": "stdout",
     "output_type": "stream",
     "text": [
      "array1 type :  <class 'numpy.ndarray'>  , value :  [1 2 3]\n",
      "array1 array 형태 :  (3,)\n"
     ]
    }
   ],
   "source": [
    "# 1차원 배열(Vactor) 정의\n",
    "# list는 배열이 아님, 동일한 자료형의 데이터를 담지 않아도됨. \n",
    "# 만약 list가 동일한 자료형이라면! numpy에서 배열로 변환시킴_\n",
    "array1 = np.array([1,2,3])\n",
    "print('array1 type : ', type(array1), ' , value : ',array1)\n",
    "# 첫글자가 대문자인지 확인함으로써 매서드를 구별(매서드는 첫글자 대문자)\n",
    "print('array1 array 형태 : ', array1.shape) #(3,)는 1차원이라는 의미! 한자리와 ','만 보여줌. (면,행,열) Java와 동일! "
   ]
  },
  {
   "cell_type": "code",
   "execution_count": 8,
   "id": "d56424b0",
   "metadata": {},
   "outputs": [
    {
     "name": "stdout",
     "output_type": "stream",
     "text": [
      "list type :  <class 'list'> value :  [1, 2, 3]\n"
     ]
    }
   ],
   "source": [
    "# cf) 리스트 자료형\n",
    "list = [1,2,3]\n",
    "print('list type : ',type(list), 'value : ', list) # 값 출력시 ','가 있음. "
   ]
  },
  {
   "cell_type": "code",
   "execution_count": null,
   "id": "41abc81a",
   "metadata": {},
   "outputs": [],
   "source": [
    "# 2차원 배열(Matrix) 정의\n",
    "# Java에서는 2차원 배열을 int[][] num = new int[3][3]; _반드시 크기 지정!\n",
    "# 허나 워낙 많이 사용하다보니 int[][] num = {(1,1,1),(2,2,2),(3,3,3)}; 으로 초기화! \n",
    "# R에서는 num = matrix(c(1:3),c(1:3)) \n",
    "# Python은 num = [[,,],[,,]]\n",
    "# 사실 Numpy에서는 차원이라고 표시하지 않고 '축'이란 표현을 쓴다. \n",
    "# 1차원 : axis = 0(Series), 2차원 : axis = 0~1(행,열), 3차원 : axis = 0~2(면,행,열) \n",
    "?\n",
    "?"
   ]
  }
 ],
 "metadata": {
  "kernelspec": {
   "display_name": "Python [conda env:tf_cpu] *",
   "language": "python",
   "name": "conda-env-tf_cpu-py"
  },
  "language_info": {
   "codemirror_mode": {
    "name": "ipython",
    "version": 3
   },
   "file_extension": ".py",
   "mimetype": "text/x-python",
   "name": "python",
   "nbconvert_exporter": "python",
   "pygments_lexer": "ipython3",
   "version": "3.7.13"
  }
 },
 "nbformat": 4,
 "nbformat_minor": 5
}
