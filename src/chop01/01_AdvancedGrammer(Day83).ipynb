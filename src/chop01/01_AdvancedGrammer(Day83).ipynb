{
 "cells": [
  {
   "cell_type": "markdown",
   "id": "13e5ce77",
   "metadata": {},
   "source": [
    "# 데이터 분석에 유용한 기능들...\n",
    "\n",
    "### - list comprehension 기본 구조"
   ]
  },
  {
   "cell_type": "code",
   "execution_count": 10,
   "id": "8c34a74b",
   "metadata": {},
   "outputs": [
    {
     "data": {
      "text/plain": [
       "[1, 4, 9, 16, 25]"
      ]
     },
     "execution_count": 10,
     "metadata": {},
     "output_type": "execute_result"
    }
   ],
   "source": [
    "numbers = [1,2,3,4,5] # []는 list 자료형\n",
    "square1 = [] # 빈 list\n",
    "for i in numbers: # numbers 만큼 반복\n",
    "    square1.append(i**2) # append()를 이용해 빈 list에 담는다._ (i**2)는 i를 제곱하라\n",
    "    \n",
    "square1"
   ]
  },
  {
   "cell_type": "code",
   "execution_count": 11,
   "id": "33a00ea6",
   "metadata": {},
   "outputs": [
    {
     "data": {
      "text/plain": [
       "[1, 4, 9, 16, 25]"
      ]
     },
     "execution_count": 11,
     "metadata": {},
     "output_type": "execute_result"
    }
   ],
   "source": [
    "square2 = [i ** 2 for i in numbers] # list comprehension\n",
    "square2"
   ]
  },
  {
   "cell_type": "code",
   "execution_count": 12,
   "id": "267f51a8",
   "metadata": {},
   "outputs": [
    {
     "data": {
      "text/plain": [
       "[9, 16, 25]"
      ]
     },
     "execution_count": 12,
     "metadata": {},
     "output_type": "execute_result"
    }
   ],
   "source": [
    "square3 = []\n",
    "\n",
    "for i in numbers:\n",
    "    if i >=3: # 3보다 크거나 같은 숫자만 아래 함수를 실행\n",
    "        square3.append(i**2)\n",
    "        \n",
    "square3"
   ]
  },
  {
   "cell_type": "code",
   "execution_count": 4,
   "id": "11dda06b",
   "metadata": {},
   "outputs": [
    {
     "data": {
      "text/plain": [
       "[9, 16, 25]"
      ]
     },
     "execution_count": 4,
     "metadata": {},
     "output_type": "execute_result"
    }
   ],
   "source": [
    "square4 = [i ** 2 for i in numbers if i >= 3] # 조건문을 추가한 list comprehension 구조\n",
    "square4"
   ]
  },
  {
   "cell_type": "markdown",
   "id": "cceffa2d",
   "metadata": {},
   "source": [
    "### - List comprehension : 리스트 변환하는 표현식으로 유용한 기능 "
   ]
  },
  {
   "cell_type": "code",
   "execution_count": 19,
   "id": "bdaa7f23",
   "metadata": {},
   "outputs": [
    {
     "name": "stdout",
     "output_type": "stream",
     "text": [
      "['mon', 'tue', 'wed', 'thu', 'fri', 'sat', 'sun']\n"
     ]
    }
   ],
   "source": [
    "day = ['mon', 'tue', 'wed', 'thu', 'fri', 'sat', 'sun']\n",
    "print([x for x in day])"
   ]
  },
  {
   "cell_type": "code",
   "execution_count": 20,
   "id": "6cfb2a6c",
   "metadata": {},
   "outputs": [
    {
     "name": "stdout",
     "output_type": "stream",
     "text": [
      "[35, 56, 45, 27, 8]\n"
     ]
    }
   ],
   "source": [
    "data = [35, 56, -53, 45, 27, -28, 8, -12]\n",
    "print([x for x in data if x>=0])"
   ]
  },
  {
   "cell_type": "code",
   "execution_count": 21,
   "id": "89dd6ddb",
   "metadata": {},
   "outputs": [
    {
     "name": "stdout",
     "output_type": "stream",
     "text": [
      "[1225, 3136, 2025, 729, 64]\n"
     ]
    }
   ],
   "source": [
    "data = [35, 56, -53, 45, 27, -28, 8, -12]\n",
    "print([x **2 for x in data if x>=0])"
   ]
  },
  {
   "cell_type": "markdown",
   "id": "67f7a921",
   "metadata": {},
   "source": [
    "### - split(구분자) : 구분자로 구분, 기본값은 공백"
   ]
  },
  {
   "cell_type": "code",
   "execution_count": 18,
   "id": "3637a725",
   "metadata": {},
   "outputs": [
    {
     "data": {
      "text/plain": [
       "['the', 'joeun', 'Computer', 'academy', 'with', 'python']"
      ]
     },
     "execution_count": 18,
     "metadata": {},
     "output_type": "execute_result"
    }
   ],
   "source": [
    "test_text = 'the-joeun-Computer-academy-with-python'\n",
    "result = test_text.split('-') # '-'를 기준으로 데이터를 분리해 리턴한다. \n",
    "result # list 자료구조로 결과를 리턴! "
   ]
  },
  {
   "cell_type": "code",
   "execution_count": 24,
   "id": "2aa53702",
   "metadata": {},
   "outputs": [
    {
     "name": "stdout",
     "output_type": "stream",
     "text": [
      "['the', 'joeun', 'Computer', 'academy', 'with', 'python']\n",
      "the-joeun-Computer-academy-with-python\n"
     ]
    }
   ],
   "source": [
    "test_text1 =['the', 'joeun', 'Computer', 'academy', 'with', 'python']\n",
    "print(test_text1)\n",
    "result1 = '-'.join(test_text1) # '-'를 기준으로 데이터를 연결해 리턴한다. \n",
    "print(result1) "
   ]
  },
  {
   "cell_type": "markdown",
   "id": "c47187ad",
   "metadata": {},
   "source": [
    "##### split() 와 join()의 응용"
   ]
  },
  {
   "cell_type": "code",
   "execution_count": 26,
   "id": "447fa8b1",
   "metadata": {},
   "outputs": [
    {
     "data": {
      "text/plain": [
       "'345-123'"
      ]
     },
     "execution_count": 26,
     "metadata": {},
     "output_type": "execute_result"
    }
   ],
   "source": [
    "result2 = '-'.join('345.123'.split('.')) # .을 기준으로 나누고 -를 기준으로 연결\n",
    "result2"
   ]
  },
  {
   "cell_type": "markdown",
   "id": "41cddb5a",
   "metadata": {},
   "source": [
    "### - enumerate(list) : 인덱스와 값을 함께 반환"
   ]
  },
  {
   "cell_type": "code",
   "execution_count": 28,
   "id": "4b56d7f9",
   "metadata": {},
   "outputs": [
    {
     "name": "stdout",
     "output_type": "stream",
     "text": [
      "0 a\n",
      "1 b\n",
      "2 c\n",
      "3 d\n",
      "4 e\n"
     ]
    }
   ],
   "source": [
    "for i, name in enumerate(['a','b','c','d','e']) : #list로 값을 넣어주면 인덱스와 매칭해서 값을 담아준다. \n",
    "    print(i, name) # i에는 인덱스를, name에는 값을 담아준다. "
   ]
  },
  {
   "cell_type": "code",
   "execution_count": 29,
   "id": "37f7a8d1",
   "metadata": {},
   "outputs": [
    {
     "data": {
      "text/plain": [
       "{0: 'mon', 1: 'tue', 2: 'wed', 3: 'thu', 4: 'fri', 5: 'sat', 6: 'sun'}"
      ]
     },
     "execution_count": 29,
     "metadata": {},
     "output_type": "execute_result"
    }
   ],
   "source": [
    "seq = ['mon', 'tue', 'wed', 'thu', 'fri', 'sat', 'sun']\n",
    "dict(enumerate(seq)) # 입력으로 전달된 데이터 셋을 딕셔너리로 형변환.{key:value, ...}"
   ]
  },
  {
   "cell_type": "code",
   "execution_count": 32,
   "id": "c72277a3",
   "metadata": {},
   "outputs": [
    {
     "data": {
      "text/plain": [
       "{'a': 'mon',\n",
       " 'b': 'tue',\n",
       " 'c': 'wed',\n",
       " 'd': 'thu',\n",
       " 'e': 'fri',\n",
       " 'f': 'sat',\n",
       " 'g': 'sun'}"
      ]
     },
     "execution_count": 32,
     "metadata": {},
     "output_type": "execute_result"
    }
   ],
   "source": [
    "key_seq = 'abcdefg'\n",
    "value_seq = ['mon', 'tue', 'wed', 'thu', 'fri', 'sat', 'sun']\n",
    "dict(zip(key_seq, value_seq)) # zipper처럼 양쪽의 데이터가 묶이며 담긴다."
   ]
  },
  {
   "cell_type": "markdown",
   "id": "fda30e92",
   "metadata": {},
   "source": [
    "### - Counter를 이용한 카운팅\n",
    "* Count는 아이템의 갯수를 자동으로 카운팅."
   ]
  },
  {
   "cell_type": "code",
   "execution_count": 33,
   "id": "7bafc1c8",
   "metadata": {},
   "outputs": [],
   "source": [
    "from collections import Counter"
   ]
  },
  {
   "cell_type": "code",
   "execution_count": 34,
   "id": "971ba6af",
   "metadata": {},
   "outputs": [],
   "source": [
    "message = '''Lorem Ipsum is simply dummy text of the printing and typesetting industry. \n",
    "Lorem Ipsum has been the industry's standard dummy text ever since the 1500s, \n",
    "when an unknown printer took a galley of type and scrambled it to make a type specimen book. \n",
    "It has survived not only five centuries, but also the leap into electronic typesetting, remaining essentially unchanged. \n",
    "It was popularised in the 1960s with the release of Letraset sheets containing Lorem Ipsum passages, \n",
    "and more recently with desktop publishing software like Aldus PageMaker including versions of Lorem Ipsum.'''"
   ]
  },
  {
   "cell_type": "code",
   "execution_count": 37,
   "id": "c1c03da2",
   "metadata": {},
   "outputs": [
    {
     "name": "stdout",
     "output_type": "stream",
     "text": [
      "Counter({'the': 6, 'Lorem': 4, 'of': 4, 'Ipsum': 3, 'and': 3, 'dummy': 2, 'text': 2, 'has': 2, 'a': 2, 'type': 2, 'It': 2, 'with': 2, 'is': 1, 'simply': 1, 'printing': 1, 'typesetting': 1, 'industry.': 1, 'been': 1, \"industry's\": 1, 'standard': 1, 'ever': 1, 'since': 1, '1500s,': 1, 'when': 1, 'an': 1, 'unknown': 1, 'printer': 1, 'took': 1, 'galley': 1, 'scrambled': 1, 'it': 1, 'to': 1, 'make': 1, 'specimen': 1, 'book.': 1, 'survived': 1, 'not': 1, 'only': 1, 'five': 1, 'centuries,': 1, 'but': 1, 'also': 1, 'leap': 1, 'into': 1, 'electronic': 1, 'typesetting,': 1, 'remaining': 1, 'essentially': 1, 'unchanged.': 1, 'was': 1, 'popularised': 1, 'in': 1, '1960s': 1, 'release': 1, 'Letraset': 1, 'sheets': 1, 'containing': 1, 'passages,': 1, 'more': 1, 'recently': 1, 'desktop': 1, 'publishing': 1, 'software': 1, 'like': 1, 'Aldus': 1, 'PageMaker': 1, 'including': 1, 'versions': 1, 'Ipsum.': 1})\n"
     ]
    }
   ],
   "source": [
    "counter = Counter(message.split())\n",
    "print(counter) # 각 단어의 출연 빈도수를 딕셔너리로 담아서 결과를 반환. "
   ]
  },
  {
   "cell_type": "code",
   "execution_count": 39,
   "id": "20184c06",
   "metadata": {},
   "outputs": [
    {
     "name": "stdout",
     "output_type": "stream",
     "text": [
      "<class 'collections.Counter'>\n"
     ]
    }
   ],
   "source": [
    "print(type(counter))"
   ]
  },
  {
   "cell_type": "markdown",
   "id": "4e997af4",
   "metadata": {},
   "source": [
    "* Counter(dict) -> list 형태로 반환"
   ]
  },
  {
   "cell_type": "code",
   "execution_count": 40,
   "id": "35831357",
   "metadata": {},
   "outputs": [
    {
     "name": "stdout",
     "output_type": "stream",
     "text": [
      "[('the', 6), ('Lorem', 4), ('of', 4), ('Ipsum', 3), ('and', 3), ('dummy', 2), ('text', 2), ('has', 2), ('a', 2), ('type', 2), ('It', 2), ('with', 2), ('is', 1), ('simply', 1), ('printing', 1), ('typesetting', 1), ('industry.', 1), ('been', 1), (\"industry's\", 1), ('standard', 1), ('ever', 1), ('since', 1), ('1500s,', 1), ('when', 1), ('an', 1), ('unknown', 1), ('printer', 1), ('took', 1), ('galley', 1), ('scrambled', 1), ('it', 1), ('to', 1), ('make', 1), ('specimen', 1), ('book.', 1), ('survived', 1), ('not', 1), ('only', 1), ('five', 1), ('centuries,', 1), ('but', 1), ('also', 1), ('leap', 1), ('into', 1), ('electronic', 1), ('typesetting,', 1), ('remaining', 1), ('essentially', 1), ('unchanged.', 1), ('was', 1), ('popularised', 1), ('in', 1), ('1960s', 1), ('release', 1), ('Letraset', 1), ('sheets', 1), ('containing', 1), ('passages,', 1), ('more', 1), ('recently', 1), ('desktop', 1), ('publishing', 1), ('software', 1), ('like', 1), ('Aldus', 1), ('PageMaker', 1), ('including', 1), ('versions', 1), ('Ipsum.', 1)]\n"
     ]
    }
   ],
   "source": [
    "print(counter.most_common()) #most_common() list로 형변환(튜플()로 전환하고 그것을 리스트에 담음.)"
   ]
  },
  {
   "cell_type": "markdown",
   "id": "f022d82c",
   "metadata": {},
   "source": [
    "*  list -> dict 형태로 반환"
   ]
  },
  {
   "cell_type": "code",
   "execution_count": 42,
   "id": "52780e1a",
   "metadata": {},
   "outputs": [
    {
     "name": "stdout",
     "output_type": "stream",
     "text": [
      "{'the': 6, 'Lorem': 4, 'of': 4, 'Ipsum': 3, 'and': 3, 'dummy': 2, 'text': 2, 'has': 2, 'a': 2, 'type': 2, 'It': 2, 'with': 2, 'is': 1, 'simply': 1, 'printing': 1, 'typesetting': 1, 'industry.': 1, 'been': 1, \"industry's\": 1, 'standard': 1, 'ever': 1, 'since': 1, '1500s,': 1, 'when': 1, 'an': 1, 'unknown': 1, 'printer': 1, 'took': 1, 'galley': 1, 'scrambled': 1, 'it': 1, 'to': 1, 'make': 1, 'specimen': 1, 'book.': 1, 'survived': 1, 'not': 1, 'only': 1, 'five': 1, 'centuries,': 1, 'but': 1, 'also': 1, 'leap': 1, 'into': 1, 'electronic': 1, 'typesetting,': 1, 'remaining': 1, 'essentially': 1, 'unchanged.': 1, 'was': 1, 'popularised': 1, 'in': 1, '1960s': 1, 'release': 1, 'Letraset': 1, 'sheets': 1, 'containing': 1, 'passages,': 1, 'more': 1, 'recently': 1, 'desktop': 1, 'publishing': 1, 'software': 1, 'like': 1, 'Aldus': 1, 'PageMaker': 1, 'including': 1, 'versions': 1, 'Ipsum.': 1}\n"
     ]
    }
   ],
   "source": [
    "print(dict(counter.most_common()))"
   ]
  },
  {
   "cell_type": "code",
   "execution_count": 44,
   "id": "066224f9",
   "metadata": {},
   "outputs": [
    {
     "name": "stdout",
     "output_type": "stream",
     "text": [
      "value :  4\n"
     ]
    }
   ],
   "source": [
    "print('value : ',counter['Lorem']) # [key값]으로 value접근 가능(반대도 가능)"
   ]
  },
  {
   "cell_type": "code",
   "execution_count": null,
   "id": "e20c3ae5",
   "metadata": {},
   "outputs": [],
   "source": []
  }
 ],
 "metadata": {
  "kernelspec": {
   "display_name": "Python [conda env:tf_cpu] *",
   "language": "python",
   "name": "conda-env-tf_cpu-py"
  },
  "language_info": {
   "codemirror_mode": {
    "name": "ipython",
    "version": 3
   },
   "file_extension": ".py",
   "mimetype": "text/x-python",
   "name": "python",
   "nbconvert_exporter": "python",
   "pygments_lexer": "ipython3",
   "version": "3.7.13"
  }
 },
 "nbformat": 4,
 "nbformat_minor": 5
}
