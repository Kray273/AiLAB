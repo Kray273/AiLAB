{
 "cells": [
  {
   "cell_type": "markdown",
   "id": "c59803ad",
   "metadata": {},
   "source": [
    "# 라이브러리 임포트\n",
    "* 실습에 필요한 라이브러리를 임포트"
   ]
  },
  {
   "cell_type": "code",
   "execution_count": 20,
   "id": "a298dcbc",
   "metadata": {},
   "outputs": [],
   "source": [
    "import numpy as np\n",
    "import pandas as pd\n",
    "import matplotlib.pyplot as plt\n",
    "import seaborn as sns"
   ]
  },
  {
   "cell_type": "markdown",
   "id": "eb9a4746",
   "metadata": {},
   "source": [
    "## 데이터 불러오기(학습데이터, 테스트 데이터)\n",
    "- 데이터 분석 단계에서 생성한 농구 포지션 예측하기의 학습 데이터 및 테스트 데이터를 로드합니다"
   ]
  },
  {
   "cell_type": "code",
   "execution_count": 21,
   "id": "83867a76",
   "metadata": {},
   "outputs": [],
   "source": [
    "train = pd.read_csv('data/csv/basketball_train.csv')\n",
    "test = pd.read_csv('data/csv/basketball_test.csv')"
   ]
  },
  {
   "cell_type": "code",
   "execution_count": 22,
   "id": "b6ecce77",
   "metadata": {},
   "outputs": [
    {
     "name": "stdout",
     "output_type": "stream",
     "text": [
      "80\n",
      "5\n",
      "20\n",
      "5\n"
     ]
    }
   ],
   "source": [
    "print(train.shape[0]) #학습용 데이터 셋의 수(행)\n",
    "print(train.shape[1]) #feature의 수(열)\n",
    "\n",
    "print(test.shape[0]) #검증용 데이터 셋의 수(행)\n",
    "print(test.shape[1]) #feature의 수(열)"
   ]
  },
  {
   "cell_type": "markdown",
   "id": "a840a181",
   "metadata": {},
   "source": [
    "## 최적의 k 찾기\n",
    "##### k의 값은 판단의 모호성을 줄이기 위해 홀수 값으로 지정."
   ]
  },
  {
   "cell_type": "code",
   "execution_count": 27,
   "id": "acd8e72c",
   "metadata": {},
   "outputs": [
    {
     "name": "stdout",
     "output_type": "stream",
     "text": [
      "[3, 5, 7, 9, 11, 13, 15, 17, 19, 21, 23, 25, 27, 29, 31, 33, 35, 37, 39]\n"
     ]
    }
   ],
   "source": [
    "# import KNN library\n",
    "from sklearn.neighbors import KNeighborsClassifier\n",
    "from sklearn.model_selection import cross_val_score\n",
    "\n",
    "# 최적의 k찾기, 3부터 시작해서 max_k_range /2 까지의 범위.\n",
    "max_k_range = train.shape[0] #최대 데이터의 값을 저장\n",
    "k_list = []\n",
    "\n",
    "for i in range(3, max_k_range // 2, 2) : # 홀수 값만큼 건너뜀. #( 3, 5, 7.....39) \n",
    "    k_list.append(i) #값을 하나씩 넣어준다. \n",
    "\n",
    "print(k_list)\n",
    "cross_validation_score = []\n",
    "x_train = train[['3P','TRB','BLK']] \n",
    "#데이터 프레임의 접근 방법 1. [] 2. 판다스에서 제공하는 loc와 iloc\n",
    "y_train = train[['Pos']] "
   ]
  },
  {
   "cell_type": "code",
   "execution_count": 28,
   "id": "ed5255e1",
   "metadata": {},
   "outputs": [
    {
     "data": {
      "text/plain": [
       "[0.8625,\n",
       " 0.85,\n",
       " 0.8875,\n",
       " 0.9125,\n",
       " 0.8875,\n",
       " 0.8875,\n",
       " 0.9,\n",
       " 0.9,\n",
       " 0.9,\n",
       " 0.875,\n",
       " 0.8625,\n",
       " 0.8625,\n",
       " 0.85,\n",
       " 0.8375,\n",
       " 0.825,\n",
       " 0.8,\n",
       " 0.8125,\n",
       " 0.8,\n",
       " 0.7875]"
      ]
     },
     "execution_count": 28,
     "metadata": {},
     "output_type": "execute_result"
    }
   ],
   "source": [
    "# 10-ford cross validation\n",
    "for k in k_list : \n",
    "    knn = KNeighborsClassifier(n_neighbors=k)\n",
    "    scores = cross_val_score(knn, x_train, y_train.values.ravel(),cv=10, scoring='accuracy')  \n",
    "    # k값, x훈련 데이터 , y훈련 데이터(2차원의 y이 데이터를 펼쳐서 1차원으로), cv는 x번 교차검증 , scoring은 정확도로 결과를 도출해라.\n",
    "    \n",
    "    cross_validation_score.append(scores.mean()) # 평균값을 담아준다.\n",
    "\n",
    "cross_validation_score"
   ]
  },
  {
   "cell_type": "markdown",
   "id": "ca492cf3",
   "metadata": {},
   "source": [
    "## 시각화"
   ]
  },
  {
   "cell_type": "code",
   "execution_count": 29,
   "id": "69f775f3",
   "metadata": {},
   "outputs": [
    {
     "data": {
      "text/plain": [
       "Text(0, 0.5, 'Accuracy')"
      ]
     },
     "execution_count": 29,
     "metadata": {},
     "output_type": "execute_result"
    },
    {
     "data": {
      "image/png": "[encoded data removed]",
      "text/plain": [
       "<Figure size 640x480 with 1 Axes>"
      ]
     },
     "metadata": {},
     "output_type": "display_data"
    }
   ],
   "source": [
    "plt.plot(k_list, cross_validation_score)\n",
    "plt.xlabel('the number of k')\n",
    "plt.ylabel('Accuracy')"
   ]
  },
  {
   "cell_type": "markdown",
   "id": "33a58f17",
   "metadata": {},
   "source": [
    "### 최적의 k값"
   ]
  },
  {
   "cell_type": "code",
   "execution_count": 32,
   "id": "1ee1a4c1",
   "metadata": {},
   "outputs": [
    {
     "name": "stdout",
     "output_type": "stream",
     "text": [
      "최적의 k 값 : 9\n"
     ]
    }
   ],
   "source": [
    "cvs = cross_validation_score\n",
    "k = k_list[cvs.index(max(cross_validation_score))]\n",
    "print(\"최적의 k 값 : \" + str(k))"
   ]
  },
  {
   "cell_type": "markdown",
   "id": "0f357d00",
   "metadata": {},
   "source": [
    "## 2개의 특징으로 예측하기('3P','BLK')"
   ]
  },
  {
   "cell_type": "code",
   "execution_count": 33,
   "id": "2aad859e",
   "metadata": {},
   "outputs": [
    {
     "data": {
      "text/html": [
       "<div>\n",
       "<style scoped>\n",
       "    .dataframe tbody tr th:only-of-type {\n",
       "        vertical-align: middle;\n",
       "    }\n",
       "\n",
       "    .dataframe tbody tr th {\n",
       "        vertical-align: top;\n",
       "    }\n",
       "\n",
       "    .dataframe thead th {\n",
       "        text-align: right;\n",
       "    }\n",
       "</style>\n",
       "<table border=\"1\" class=\"dataframe\">\n",
       "  <thead>\n",
       "    <tr style=\"text-align: right;\">\n",
       "      <th></th>\n",
       "      <th>prediction</th>\n",
       "      <th>target</th>\n",
       "    </tr>\n",
       "  </thead>\n",
       "  <tbody>\n",
       "    <tr>\n",
       "      <th>0</th>\n",
       "      <td>C</td>\n",
       "      <td>C</td>\n",
       "    </tr>\n",
       "    <tr>\n",
       "      <th>1</th>\n",
       "      <td>C</td>\n",
       "      <td>C</td>\n",
       "    </tr>\n",
       "    <tr>\n",
       "      <th>2</th>\n",
       "      <td>C</td>\n",
       "      <td>C</td>\n",
       "    </tr>\n",
       "    <tr>\n",
       "      <th>3</th>\n",
       "      <td>C</td>\n",
       "      <td>C</td>\n",
       "    </tr>\n",
       "    <tr>\n",
       "      <th>4</th>\n",
       "      <td>C</td>\n",
       "      <td>C</td>\n",
       "    </tr>\n",
       "    <tr>\n",
       "      <th>5</th>\n",
       "      <td>SG</td>\n",
       "      <td>SG</td>\n",
       "    </tr>\n",
       "    <tr>\n",
       "      <th>6</th>\n",
       "      <td>SG</td>\n",
       "      <td>SG</td>\n",
       "    </tr>\n",
       "    <tr>\n",
       "      <th>7</th>\n",
       "      <td>C</td>\n",
       "      <td>C</td>\n",
       "    </tr>\n",
       "    <tr>\n",
       "      <th>8</th>\n",
       "      <td>SG</td>\n",
       "      <td>SG</td>\n",
       "    </tr>\n",
       "    <tr>\n",
       "      <th>9</th>\n",
       "      <td>SG</td>\n",
       "      <td>SG</td>\n",
       "    </tr>\n",
       "    <tr>\n",
       "      <th>10</th>\n",
       "      <td>C</td>\n",
       "      <td>C</td>\n",
       "    </tr>\n",
       "    <tr>\n",
       "      <th>11</th>\n",
       "      <td>C</td>\n",
       "      <td>C</td>\n",
       "    </tr>\n",
       "    <tr>\n",
       "      <th>12</th>\n",
       "      <td>C</td>\n",
       "      <td>C</td>\n",
       "    </tr>\n",
       "    <tr>\n",
       "      <th>13</th>\n",
       "      <td>SG</td>\n",
       "      <td>SG</td>\n",
       "    </tr>\n",
       "    <tr>\n",
       "      <th>14</th>\n",
       "      <td>SG</td>\n",
       "      <td>SG</td>\n",
       "    </tr>\n",
       "    <tr>\n",
       "      <th>15</th>\n",
       "      <td>SG</td>\n",
       "      <td>SG</td>\n",
       "    </tr>\n",
       "    <tr>\n",
       "      <th>16</th>\n",
       "      <td>C</td>\n",
       "      <td>C</td>\n",
       "    </tr>\n",
       "    <tr>\n",
       "      <th>17</th>\n",
       "      <td>SG</td>\n",
       "      <td>SG</td>\n",
       "    </tr>\n",
       "    <tr>\n",
       "      <th>18</th>\n",
       "      <td>SG</td>\n",
       "      <td>SG</td>\n",
       "    </tr>\n",
       "    <tr>\n",
       "      <th>19</th>\n",
       "      <td>C</td>\n",
       "      <td>C</td>\n",
       "    </tr>\n",
       "  </tbody>\n",
       "</table>\n",
       "</div>"
      ],
      "text/plain": [
       "   prediction target\n",
       "0           C      C\n",
       "1           C      C\n",
       "2           C      C\n",
       "3           C      C\n",
       "4           C      C\n",
       "5          SG     SG\n",
       "6          SG     SG\n",
       "7           C      C\n",
       "8          SG     SG\n",
       "9          SG     SG\n",
       "10          C      C\n",
       "11          C      C\n",
       "12          C      C\n",
       "13         SG     SG\n",
       "14         SG     SG\n",
       "15         SG     SG\n",
       "16          C      C\n",
       "17         SG     SG\n",
       "18         SG     SG\n",
       "19          C      C"
      ]
     },
     "execution_count": 33,
     "metadata": {},
     "output_type": "execute_result"
    }
   ],
   "source": [
    "knn = KNeighborsClassifier(n_neighbors= k)\n",
    "\n",
    "x_train = train[['3P','BLK']]\n",
    "y_train = train[['Pos']]\n",
    "\n",
    "knn.fit(x_train, y_train.values.ravel())\n",
    "\n",
    "x_test = test[['3P','BLK']]\n",
    "y_test = test[['Pos']]\n",
    "\n",
    "pred = knn.predict(x_test) # 예측! \n",
    "\n",
    "comparision = pd.DataFrame({'prediction' : pred, 'target': y_test.values.ravel()})\n",
    "comparision"
   ]
  },
  {
   "cell_type": "code",
   "execution_count": 34,
   "id": "3e214fce",
   "metadata": {},
   "outputs": [
    {
     "name": "stdout",
     "output_type": "stream",
     "text": [
      "Accuracy :  1.0\n"
     ]
    }
   ],
   "source": [
    "from sklearn.metrics import accuracy_score\n",
    "\n",
    "print('Accuracy : ', str(accuracy_score(y_test.values.ravel(), pred)))"
   ]
  },
  {
   "cell_type": "markdown",
   "id": "a4fc8141",
   "metadata": {},
   "source": [
    "### 3개의 특징으로 예측하기('3P', 'BLK', 'TRB)"
   ]
  },
  {
   "cell_type": "code",
   "execution_count": 35,
   "id": "0775952d",
   "metadata": {},
   "outputs": [
    {
     "name": "stdout",
     "output_type": "stream",
     "text": [
      "   prediction target\n",
      "0           C      C\n",
      "1           C      C\n",
      "2           C      C\n",
      "3           C      C\n",
      "4           C      C\n",
      "5          SG     SG\n",
      "6          SG     SG\n",
      "7           C      C\n",
      "8          SG     SG\n",
      "9          SG     SG\n",
      "10          C      C\n",
      "11          C      C\n",
      "12          C      C\n",
      "13         SG     SG\n",
      "14         SG     SG\n",
      "15         SG     SG\n",
      "16          C      C\n",
      "17         SG     SG\n",
      "18         SG     SG\n",
      "19          C      C\n",
      "Accuracy :  1.0\n"
     ]
    }
   ],
   "source": [
    "knn = KNeighborsClassifier(n_neighbors= k)\n",
    "\n",
    "x_train = train[['3P','BLK','TRB']]\n",
    "y_train = train[['Pos']]\n",
    "\n",
    "knn.fit(x_train, y_train.values.ravel())\n",
    "\n",
    "x_test = test[['3P','BLK','TRB']]\n",
    "y_test = test[['Pos']]\n",
    "\n",
    "pred = knn.predict(x_test) # 예측! \n",
    "\n",
    "comparision = pd.DataFrame({'prediction' : pred, 'target': y_test.values.ravel()})\n",
    "print(comparision)\n",
    "print('Accuracy : ', str(accuracy_score(y_test.values.ravel(), pred)))"
   ]
  },
  {
   "cell_type": "code",
   "execution_count": null,
   "id": "11c1ab10",
   "metadata": {},
   "outputs": [],
   "source": []
  }
 ],
 "metadata": {
  "kernelspec": {
   "display_name": "Python [conda env:tf_cpu] *",
   "language": "python",
   "name": "conda-env-tf_cpu-py"
  },
  "language_info": {
   "codemirror_mode": {
    "name": "ipython",
    "version": 3
   },
   "file_extension": ".py",
   "mimetype": "text/x-python",
   "name": "python",
   "nbconvert_exporter": "python",
   "pygments_lexer": "ipython3",
   "version": "3.7.13"
  }
 },
 "nbformat": 4,
 "nbformat_minor": 5
}
