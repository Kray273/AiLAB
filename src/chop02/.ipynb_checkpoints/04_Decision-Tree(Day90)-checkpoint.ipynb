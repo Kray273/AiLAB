{
 "cells": [
  {
   "cell_type": "markdown",
   "id": "42a73fe7",
   "metadata": {},
   "source": [
    "## 라이브러리 임포트\n",
    "- 실습에 필요한 라이브러리를 임포트"
   ]
  },
  {
   "cell_type": "code",
   "execution_count": 2,
   "id": "8c113a03",
   "metadata": {},
   "outputs": [],
   "source": [
    "# 데이터 분석을 위해서는 필수\n",
    "import pandas as pd\n",
    "import numpy as np\n",
    "\n",
    "# sklearn 모델의 동일한 결과 출력을 위해 선언. (학습을 위해)\n",
    "np.random.seed(5)"
   ]
  },
  {
   "cell_type": "markdown",
   "id": "cb3c6876",
   "metadata": {},
   "source": [
    "## 문제 정의!! \n",
    "- 서울 지역(구)의 경도와 위도 정보를 사용해서, 임의로 임력된 지역(동)을 강동, 강서, 강남, 강북으로 분류하는 예제. "
   ]
  },
  {
   "cell_type": "markdown",
   "id": "7f250815",
   "metadata": {},
   "source": [
    "## 데이터 수집\n",
    "- 아래는 서울의 대표적인 구(district)위치 데이터임.\n",
    "- 구(district) 정보는 학습에 사용함."
   ]
  },
  {
   "cell_type": "markdown",
   "id": "8d0c79d9",
   "metadata": {},
   "source": [
    "### 컬럼 주석 \n",
    "- district : 행정구(서초구, 송파구, 용산구 등) \n",
    "- dong : 구(district)보다 작은 행정구역(대치동, 도곡동, 암사동 등 서울의 소단위 분류)\n",
    "- latitude : 위도\n",
    "- longitude : 경도\n",
    "- label : 한강을 기준으로 동/서/남/북으로 구분한 지역의 명칭. "
   ]
  },
  {
   "cell_type": "code",
   "execution_count": 3,
   "id": "4b17b949",
   "metadata": {},
   "outputs": [],
   "source": [
    "district_dict_list = [\n",
    "            {'district': 'Gangseo-gu', 'latitude': 37.551000, 'longitude': 126.849500, 'label':'Gangseo'},\n",
    "            {'district': 'Yangcheon-gu', 'latitude': 37.52424, 'longitude': 126.855396, 'label':'Gangseo'},\n",
    "            {'district': 'Guro-gu', 'latitude': 37.4954, 'longitude': 126.8874, 'label':'Gangseo'},\n",
    "            {'district': 'Geumcheon-gu', 'latitude': 37.4519, 'longitude': 126.9020, 'label':'Gangseo'},\n",
    "            {'district': 'Mapo-gu', 'latitude': 37.560229, 'longitude': 126.908728, 'label':'Gangseo'},\n",
    "            \n",
    "            {'district': 'Gwanak-gu', 'latitude': 37.487517, 'longitude': 126.915065, 'label':'Gangnam'},\n",
    "            {'district': 'Dongjak-gu', 'latitude': 37.5124, 'longitude': 126.9393, 'label':'Gangnam'},\n",
    "            {'district': 'Seocho-gu', 'latitude': 37.4837, 'longitude': 127.0324, 'label':'Gangnam'},\n",
    "            {'district': 'Gangnam-gu', 'latitude': 37.5172, 'longitude': 127.0473, 'label':'Gangnam'},\n",
    "            {'district': 'Songpa-gu', 'latitude': 37.503510, 'longitude': 127.117898, 'label':'Gangnam'},\n",
    "   \n",
    "            {'district': 'Yongsan-gu', 'latitude': 37.532561, 'longitude': 127.008605, 'label':'Gangbuk'},\n",
    "            {'district': 'Jongro-gu', 'latitude': 37.5730, 'longitude': 126.9794, 'label':'Gangbuk'},\n",
    "            {'district': 'Seongbuk-gu', 'latitude': 37.603979, 'longitude': 127.056344, 'label':'Gangbuk'},\n",
    "            {'district': 'Nowon-gu', 'latitude': 37.6542, 'longitude': 127.0568, 'label':'Gangbuk'},\n",
    "            {'district': 'Dobong-gu', 'latitude': 37.6688, 'longitude': 127.0471, 'label':'Gangbuk'},\n",
    "     \n",
    "            {'district': 'Seongdong-gu', 'latitude': 37.557340, 'longitude': 127.041667, 'label':'Gangdong'},\n",
    "            {'district': 'Dongdaemun-gu', 'latitude': 37.575759, 'longitude': 127.025288, 'label':'Gangdong'},\n",
    "            {'district': 'Gwangjin-gu', 'latitude': 37.557562, 'longitude': 127.083467, 'label':'Gangdong'},\n",
    "            {'district': 'Gangdong-gu', 'latitude': 37.554194, 'longitude': 127.151405, 'label':'Gangdong'},\n",
    "            {'district': 'Jungrang-gu', 'latitude': 37.593684, 'longitude': 127.090384, 'label':'Gangdong'}\n",
    "         ]"
   ]
  },
  {
   "cell_type": "code",
   "execution_count": 32,
   "id": "a581bec8",
   "metadata": {},
   "outputs": [
    {
     "data": {
      "text/html": [
       "<div>\n",
       "<style scoped>\n",
       "    .dataframe tbody tr th:only-of-type {\n",
       "        vertical-align: middle;\n",
       "    }\n",
       "\n",
       "    .dataframe tbody tr th {\n",
       "        vertical-align: top;\n",
       "    }\n",
       "\n",
       "    .dataframe thead th {\n",
       "        text-align: right;\n",
       "    }\n",
       "</style>\n",
       "<table border=\"1\" class=\"dataframe\">\n",
       "  <thead>\n",
       "    <tr style=\"text-align: right;\">\n",
       "      <th></th>\n",
       "      <th>district</th>\n",
       "      <th>longitude</th>\n",
       "      <th>latitude</th>\n",
       "      <th>label</th>\n",
       "    </tr>\n",
       "  </thead>\n",
       "  <tbody>\n",
       "    <tr>\n",
       "      <th>0</th>\n",
       "      <td>Gangseo-gu</td>\n",
       "      <td>126.849500</td>\n",
       "      <td>37.551000</td>\n",
       "      <td>Gangseo</td>\n",
       "    </tr>\n",
       "    <tr>\n",
       "      <th>1</th>\n",
       "      <td>Yangcheon-gu</td>\n",
       "      <td>126.855396</td>\n",
       "      <td>37.524240</td>\n",
       "      <td>Gangseo</td>\n",
       "    </tr>\n",
       "    <tr>\n",
       "      <th>2</th>\n",
       "      <td>Guro-gu</td>\n",
       "      <td>126.887400</td>\n",
       "      <td>37.495400</td>\n",
       "      <td>Gangseo</td>\n",
       "    </tr>\n",
       "    <tr>\n",
       "      <th>3</th>\n",
       "      <td>Geumcheon-gu</td>\n",
       "      <td>126.902000</td>\n",
       "      <td>37.451900</td>\n",
       "      <td>Gangseo</td>\n",
       "    </tr>\n",
       "    <tr>\n",
       "      <th>4</th>\n",
       "      <td>Mapo-gu</td>\n",
       "      <td>126.908728</td>\n",
       "      <td>37.560229</td>\n",
       "      <td>Gangseo</td>\n",
       "    </tr>\n",
       "  </tbody>\n",
       "</table>\n",
       "</div>"
      ],
      "text/plain": [
       "       district   longitude   latitude    label\n",
       "0    Gangseo-gu  126.849500  37.551000  Gangseo\n",
       "1  Yangcheon-gu  126.855396  37.524240  Gangseo\n",
       "2       Guro-gu  126.887400  37.495400  Gangseo\n",
       "3  Geumcheon-gu  126.902000  37.451900  Gangseo\n",
       "4       Mapo-gu  126.908728  37.560229  Gangseo"
      ]
     },
     "execution_count": 32,
     "metadata": {},
     "output_type": "execute_result"
    }
   ],
   "source": [
    "train_df = pd.DataFrame(district_dict_list)\n",
    "train_df = train_df[['district','longitude','latitude','label']] # longitude와 latitude 순서를 변경\n",
    "# pd에서 DataFrame에 접근 하는 방식은 [['column']]과 loc[행row,열column], iloc[행index, 열index]이다. \n",
    "# loc와 iloc는 함수가 아닌 접근의 연사자이다! 대괄호는!!!\n",
    "train_df.head()"
   ]
  },
  {
   "cell_type": "markdown",
   "id": "f44d6d77",
   "metadata": {},
   "source": [
    "- 아래는 서울의 대표적인 동 위치 데이터, \n",
    "- 동 정보는 테스트시 사용"
   ]
  },
  {
   "cell_type": "code",
   "execution_count": 4,
   "id": "9f3e0735",
   "metadata": {},
   "outputs": [],
   "source": [
    "dong_dict_list = [\n",
    "            {'dong': 'Gaebong-dong', 'latitude': 37.489853, 'longitude': 126.854547, 'label':'Gangseo'},\n",
    "            {'dong': 'Gochuk-dong', 'latitude': 37.501394, 'longitude': 126.859245, 'label':'Gangseo'},\n",
    "            {'dong': 'Hwagok-dong', 'latitude': 37.537759, 'longitude': 126.847951, 'label':'Gangseo'},\n",
    "            {'dong': 'Banghwa-dong', 'latitude': 37.575817, 'longitude': 126.815719, 'label':'Gangseo'},\n",
    "            {'dong': 'Sangam-dong', 'latitude': 37.577039, 'longitude': 126.891620, 'label':'Gangseo'},\n",
    "            \n",
    "            {'dong': 'Nonhyun-dong', 'latitude': 37.508838, 'longitude': 127.030720, 'label':'Gangnam'},\n",
    "            {'dong': 'Daechi-dong', 'latitude': 37.501163, 'longitude': 127.057193, 'label':'Gangnam'},\n",
    "            {'dong': 'Seocho-dong', 'latitude': 37.486401, 'longitude': 127.018281, 'label':'Gangnam'},\n",
    "            {'dong': 'Bangbae-dong', 'latitude': 37.483279, 'longitude': 126.988194, 'label':'Gangnam'},\n",
    "            {'dong': 'Dogok-dong', 'latitude': 37.492896, 'longitude': 127.043159, 'label':'Gangnam'},\n",
    "    \n",
    "            {'dong': 'Pyoungchang-dong', 'latitude': 37.612129, 'longitude': 126.975724, 'label':'Gangbuk'},\n",
    "            {'dong': 'Sungbuk-dong', 'latitude': 37.597916, 'longitude': 126.998067, 'label':'Gangbuk'},\n",
    "            {'dong': 'Ssangmoon-dong', 'latitude': 37.648094, 'longitude': 127.030421, 'label':'Gangbuk'},\n",
    "            {'dong': 'Ui-dong', 'latitude': 37.648446, 'longitude': 127.011396, 'label':'Gangbuk'},\n",
    "            {'dong': 'Samcheong-dong', 'latitude': 37.591109, 'longitude': 126.980488, 'label':'Gangbuk'},\n",
    "    \n",
    "            {'dong': 'Hwayang-dong', 'latitude': 37.544234, 'longitude': 127.071648, 'label':'Gangdong'},\n",
    "            {'dong': 'Gui-dong', 'latitude': 37.543757, 'longitude': 127.086803, 'label':'Gangdong'},\n",
    "            {'dong': 'Neung-dong', 'latitude': 37.553102, 'longitude': 127.080248, 'label':'Gangdong'},\n",
    "            {'dong': 'Amsa-dong', 'latitude': 37.552370, 'longitude': 127.127124, 'label':'Gangdong'},\n",
    "            {'dong': 'Chunho-dong', 'latitude': 37.547436, 'longitude': 127.137382, 'label':'Gangdong'}\n",
    "         ]"
   ]
  },
  {
   "cell_type": "code",
   "execution_count": 11,
   "id": "4527dbe3",
   "metadata": {},
   "outputs": [
    {
     "data": {
      "text/html": [
       "<div>\n",
       "<style scoped>\n",
       "    .dataframe tbody tr th:only-of-type {\n",
       "        vertical-align: middle;\n",
       "    }\n",
       "\n",
       "    .dataframe tbody tr th {\n",
       "        vertical-align: top;\n",
       "    }\n",
       "\n",
       "    .dataframe thead th {\n",
       "        text-align: right;\n",
       "    }\n",
       "</style>\n",
       "<table border=\"1\" class=\"dataframe\">\n",
       "  <thead>\n",
       "    <tr style=\"text-align: right;\">\n",
       "      <th></th>\n",
       "      <th>dong</th>\n",
       "      <th>longitude</th>\n",
       "      <th>latitude</th>\n",
       "      <th>label</th>\n",
       "    </tr>\n",
       "  </thead>\n",
       "  <tbody>\n",
       "    <tr>\n",
       "      <th>0</th>\n",
       "      <td>Gaebong-dong</td>\n",
       "      <td>126.854547</td>\n",
       "      <td>37.489853</td>\n",
       "      <td>Gangseo</td>\n",
       "    </tr>\n",
       "    <tr>\n",
       "      <th>1</th>\n",
       "      <td>Gochuk-dong</td>\n",
       "      <td>126.859245</td>\n",
       "      <td>37.501394</td>\n",
       "      <td>Gangseo</td>\n",
       "    </tr>\n",
       "    <tr>\n",
       "      <th>2</th>\n",
       "      <td>Hwagok-dong</td>\n",
       "      <td>126.847951</td>\n",
       "      <td>37.537759</td>\n",
       "      <td>Gangseo</td>\n",
       "    </tr>\n",
       "    <tr>\n",
       "      <th>3</th>\n",
       "      <td>Banghwa-dong</td>\n",
       "      <td>126.815719</td>\n",
       "      <td>37.575817</td>\n",
       "      <td>Gangseo</td>\n",
       "    </tr>\n",
       "    <tr>\n",
       "      <th>4</th>\n",
       "      <td>Sangam-dong</td>\n",
       "      <td>126.891620</td>\n",
       "      <td>37.577039</td>\n",
       "      <td>Gangseo</td>\n",
       "    </tr>\n",
       "  </tbody>\n",
       "</table>\n",
       "</div>"
      ],
      "text/plain": [
       "           dong   longitude   latitude    label\n",
       "0  Gaebong-dong  126.854547  37.489853  Gangseo\n",
       "1   Gochuk-dong  126.859245  37.501394  Gangseo\n",
       "2   Hwagok-dong  126.847951  37.537759  Gangseo\n",
       "3  Banghwa-dong  126.815719  37.575817  Gangseo\n",
       "4   Sangam-dong  126.891620  37.577039  Gangseo"
      ]
     },
     "execution_count": 11,
     "metadata": {},
     "output_type": "execute_result"
    }
   ],
   "source": [
    "test_df = pd.DataFrame(dong_dict_list)\n",
    "test_df = test_df[['dong','longitude','latitude','label']]\n",
    "test_df.head()"
   ]
  },
  {
   "cell_type": "code",
   "execution_count": 13,
   "id": "b463d8e7",
   "metadata": {},
   "outputs": [
    {
     "data": {
      "text/plain": [
       "Gangseo     5\n",
       "Gangnam     5\n",
       "Gangbuk     5\n",
       "Gangdong    5\n",
       "Name: label, dtype: int64"
      ]
     },
     "execution_count": 13,
     "metadata": {},
     "output_type": "execute_result"
    }
   ],
   "source": [
    "# 현재 가지고 있는 데이터에서, 레이블의 갯수를 확인\n",
    "train_df.label.value_counts()"
   ]
  },
  {
   "cell_type": "code",
   "execution_count": 14,
   "id": "c2d30511",
   "metadata": {},
   "outputs": [
    {
     "data": {
      "text/plain": [
       "Gangseo     5\n",
       "Gangnam     5\n",
       "Gangbuk     5\n",
       "Gangdong    5\n",
       "Name: label, dtype: int64"
      ]
     },
     "execution_count": 14,
     "metadata": {},
     "output_type": "execute_result"
    }
   ],
   "source": [
    "test_df.label.value_counts()"
   ]
  },
  {
   "cell_type": "markdown",
   "id": "ab4c7597",
   "metadata": {},
   "source": [
    "## 데이터 전처리\n",
    "- 이번 예제에서는 위도와 경도 정보만으로, 그 지역의 레이블(타겟)을 예측해 볼 수 있도록 데이터 전처리를 함. \n",
    "- 경도와 위도의 평균과 편차를 보도록 함."
   ]
  },
  {
   "cell_type": "code",
   "execution_count": 15,
   "id": "521c7aaa",
   "metadata": {},
   "outputs": [
    {
     "data": {
      "text/html": [
       "<div>\n",
       "<style scoped>\n",
       "    .dataframe tbody tr th:only-of-type {\n",
       "        vertical-align: middle;\n",
       "    }\n",
       "\n",
       "    .dataframe tbody tr th {\n",
       "        vertical-align: top;\n",
       "    }\n",
       "\n",
       "    .dataframe thead th {\n",
       "        text-align: right;\n",
       "    }\n",
       "</style>\n",
       "<table border=\"1\" class=\"dataframe\">\n",
       "  <thead>\n",
       "    <tr style=\"text-align: right;\">\n",
       "      <th></th>\n",
       "      <th>longitude</th>\n",
       "      <th>latitude</th>\n",
       "    </tr>\n",
       "  </thead>\n",
       "  <tbody>\n",
       "    <tr>\n",
       "      <th>count</th>\n",
       "      <td>20.000000</td>\n",
       "      <td>20.000000</td>\n",
       "    </tr>\n",
       "    <tr>\n",
       "      <th>mean</th>\n",
       "      <td>126.999772</td>\n",
       "      <td>37.547909</td>\n",
       "    </tr>\n",
       "    <tr>\n",
       "      <th>std</th>\n",
       "      <td>0.089387</td>\n",
       "      <td>0.055086</td>\n",
       "    </tr>\n",
       "    <tr>\n",
       "      <th>min</th>\n",
       "      <td>126.849500</td>\n",
       "      <td>37.451900</td>\n",
       "    </tr>\n",
       "    <tr>\n",
       "      <th>25%</th>\n",
       "      <td>126.913481</td>\n",
       "      <td>37.510177</td>\n",
       "    </tr>\n",
       "    <tr>\n",
       "      <th>50%</th>\n",
       "      <td>127.028844</td>\n",
       "      <td>37.552597</td>\n",
       "    </tr>\n",
       "    <tr>\n",
       "      <th>75%</th>\n",
       "      <td>127.056458</td>\n",
       "      <td>37.573690</td>\n",
       "    </tr>\n",
       "    <tr>\n",
       "      <th>max</th>\n",
       "      <td>127.151405</td>\n",
       "      <td>37.668800</td>\n",
       "    </tr>\n",
       "  </tbody>\n",
       "</table>\n",
       "</div>"
      ],
      "text/plain": [
       "        longitude   latitude\n",
       "count   20.000000  20.000000\n",
       "mean   126.999772  37.547909\n",
       "std      0.089387   0.055086\n",
       "min    126.849500  37.451900\n",
       "25%    126.913481  37.510177\n",
       "50%    127.028844  37.552597\n",
       "75%    127.056458  37.573690\n",
       "max    127.151405  37.668800"
      ]
     },
     "execution_count": 15,
     "metadata": {},
     "output_type": "execute_result"
    }
   ],
   "source": [
    "# 데이터의 정보를 확인. \n",
    "train_df.describe() #R의 서머리와 비슷하지만, std(표준편차)를 추가로 보여준다. 숫자형 데이터에서만 의미를 가짐. "
   ]
  },
  {
   "cell_type": "markdown",
   "id": "22db7398",
   "metadata": {},
   "source": [
    "- 경도와 위도는 같은 단위를 사용하는 것을 확인. \n",
    "- 이번 예제는 의사결정트로 데이터를 분류. \n",
    "- 의사결정트리는 각 특징을 독립적으로 사용하기 때문에, 이번 예제에서는 변다른 전처리 과정이 불필요.(feature를 그대로 적용.)"
   ]
  },
  {
   "cell_type": "markdown",
   "id": "0976c130",
   "metadata": {},
   "source": [
    "#### 데이터 시각화\n",
    "- 데이터 특징을 바탕으로 한 공간에 특징을 시각화 함으로서, 머신러닝 학습에 필요한 특징과 불필요한 특징을 쉽게 구분지을 수 있다. \n",
    "- 데이터의 패턴을 눈으로 쉽게 파악할 수 있다. "
   ]
  },
  {
   "cell_type": "code",
   "execution_count": 25,
   "id": "c5bc0562",
   "metadata": {},
   "outputs": [
    {
     "data": {
      "text/plain": [
       "Text(0.5, 1.0, 'district visualization in 2d plane')"
      ]
     },
     "execution_count": 25,
     "metadata": {},
     "output_type": "execute_result"
    },
    {
     "data": {
      "image/png": "[encoded data removed]",
      "text/plain": [
       "<Figure size 622x500 with 1 Axes>"
      ]
     },
     "metadata": {},
     "output_type": "display_data"
    }
   ],
   "source": [
    "import matplotlib.pyplot as plt\n",
    "import seaborn as sns\n",
    "\n",
    "# 경도, 위도에 따른 데이터 시각화\n",
    "sns.lmplot(data=train_df, x='longitude', y='latitude', fit_reg= False, scatter_kws={'s':150}, markers=['o','x','+','*'], hue='label')\n",
    "# title\n",
    "plt.title('district visualization in 2d plane')"
   ]
  },
  {
   "cell_type": "markdown",
   "id": "e92be902",
   "metadata": {},
   "source": [
    "#### 데이터 다듬기\n",
    "- 학습 및 테스트에 필요 없는 feature를 데이터에서 제거 \n",
    "- 구 이름 및 동 이름은 학습 및 테스트에 필요없음으로 제거. (단지 식별자의 역할) \n"
   ]
  },
  {
   "cell_type": "code",
   "execution_count": 33,
   "id": "1e673a1f",
   "metadata": {},
   "outputs": [
    {
     "data": {
      "text/html": [
       "<div>\n",
       "<style scoped>\n",
       "    .dataframe tbody tr th:only-of-type {\n",
       "        vertical-align: middle;\n",
       "    }\n",
       "\n",
       "    .dataframe tbody tr th {\n",
       "        vertical-align: top;\n",
       "    }\n",
       "\n",
       "    .dataframe thead th {\n",
       "        text-align: right;\n",
       "    }\n",
       "</style>\n",
       "<table border=\"1\" class=\"dataframe\">\n",
       "  <thead>\n",
       "    <tr style=\"text-align: right;\">\n",
       "      <th></th>\n",
       "      <th>longitude</th>\n",
       "      <th>latitude</th>\n",
       "      <th>label</th>\n",
       "    </tr>\n",
       "  </thead>\n",
       "  <tbody>\n",
       "    <tr>\n",
       "      <th>0</th>\n",
       "      <td>126.849500</td>\n",
       "      <td>37.551000</td>\n",
       "      <td>Gangseo</td>\n",
       "    </tr>\n",
       "    <tr>\n",
       "      <th>1</th>\n",
       "      <td>126.855396</td>\n",
       "      <td>37.524240</td>\n",
       "      <td>Gangseo</td>\n",
       "    </tr>\n",
       "    <tr>\n",
       "      <th>2</th>\n",
       "      <td>126.887400</td>\n",
       "      <td>37.495400</td>\n",
       "      <td>Gangseo</td>\n",
       "    </tr>\n",
       "    <tr>\n",
       "      <th>3</th>\n",
       "      <td>126.902000</td>\n",
       "      <td>37.451900</td>\n",
       "      <td>Gangseo</td>\n",
       "    </tr>\n",
       "    <tr>\n",
       "      <th>4</th>\n",
       "      <td>126.908728</td>\n",
       "      <td>37.560229</td>\n",
       "      <td>Gangseo</td>\n",
       "    </tr>\n",
       "  </tbody>\n",
       "</table>\n",
       "</div>"
      ],
      "text/plain": [
       "    longitude   latitude    label\n",
       "0  126.849500  37.551000  Gangseo\n",
       "1  126.855396  37.524240  Gangseo\n",
       "2  126.887400  37.495400  Gangseo\n",
       "3  126.902000  37.451900  Gangseo\n",
       "4  126.908728  37.560229  Gangseo"
      ]
     },
     "execution_count": 33,
     "metadata": {},
     "output_type": "execute_result"
    }
   ],
   "source": [
    "train_df.drop(['district'],axis=1, inplace=True) \n",
    "# drop은 행과 열 다제거 가능하다. 반드시 열을 제거 할 시 매개변수를 수정해야함.\n",
    "train_df.head()"
   ]
  },
  {
   "cell_type": "code",
   "execution_count": 34,
   "id": "3fb901e1",
   "metadata": {},
   "outputs": [
    {
     "data": {
      "text/html": [
       "<div>\n",
       "<style scoped>\n",
       "    .dataframe tbody tr th:only-of-type {\n",
       "        vertical-align: middle;\n",
       "    }\n",
       "\n",
       "    .dataframe tbody tr th {\n",
       "        vertical-align: top;\n",
       "    }\n",
       "\n",
       "    .dataframe thead th {\n",
       "        text-align: right;\n",
       "    }\n",
       "</style>\n",
       "<table border=\"1\" class=\"dataframe\">\n",
       "  <thead>\n",
       "    <tr style=\"text-align: right;\">\n",
       "      <th></th>\n",
       "      <th>longitude</th>\n",
       "      <th>latitude</th>\n",
       "      <th>label</th>\n",
       "    </tr>\n",
       "  </thead>\n",
       "  <tbody>\n",
       "    <tr>\n",
       "      <th>0</th>\n",
       "      <td>126.854547</td>\n",
       "      <td>37.489853</td>\n",
       "      <td>Gangseo</td>\n",
       "    </tr>\n",
       "    <tr>\n",
       "      <th>1</th>\n",
       "      <td>126.859245</td>\n",
       "      <td>37.501394</td>\n",
       "      <td>Gangseo</td>\n",
       "    </tr>\n",
       "    <tr>\n",
       "      <th>2</th>\n",
       "      <td>126.847951</td>\n",
       "      <td>37.537759</td>\n",
       "      <td>Gangseo</td>\n",
       "    </tr>\n",
       "    <tr>\n",
       "      <th>3</th>\n",
       "      <td>126.815719</td>\n",
       "      <td>37.575817</td>\n",
       "      <td>Gangseo</td>\n",
       "    </tr>\n",
       "    <tr>\n",
       "      <th>4</th>\n",
       "      <td>126.891620</td>\n",
       "      <td>37.577039</td>\n",
       "      <td>Gangseo</td>\n",
       "    </tr>\n",
       "  </tbody>\n",
       "</table>\n",
       "</div>"
      ],
      "text/plain": [
       "    longitude   latitude    label\n",
       "0  126.854547  37.489853  Gangseo\n",
       "1  126.859245  37.501394  Gangseo\n",
       "2  126.847951  37.537759  Gangseo\n",
       "3  126.815719  37.575817  Gangseo\n",
       "4  126.891620  37.577039  Gangseo"
      ]
     },
     "execution_count": 34,
     "metadata": {},
     "output_type": "execute_result"
    }
   ],
   "source": [
    "test_df.drop(['dong'],axis=1, inplace=True) \n",
    "# drop은 행과 열 다제거 가능하다. 반드시 열을 제거 할 시 매개변수를 수정해야함.\n",
    "test_df.head()"
   ]
  },
  {
   "cell_type": "code",
   "execution_count": 36,
   "id": "4de03da3",
   "metadata": {},
   "outputs": [],
   "source": [
    "X_train = train_df[['longitude','latitude']]\n",
    "y_train = train_df[['label']] \n",
    "\n",
    "X_test = test_df[['longitude','latitude']]\n",
    "y_test = test_df[['label']] "
   ]
  },
  {
   "cell_type": "markdown",
   "id": "b848bb53",
   "metadata": {},
   "source": [
    "## Train"
   ]
  },
  {
   "cell_type": "markdown",
   "id": "d6df8daa",
   "metadata": {},
   "source": [
    "#### Encoding\n",
    "- LabelEncoder로 레이블을 숫자로 변경 "
   ]
  },
  {
   "cell_type": "code",
   "execution_count": 38,
   "id": "fdb2ed93",
   "metadata": {},
   "outputs": [
    {
     "name": "stdout",
     "output_type": "stream",
     "text": [
      "[3 3 3 3 3 2 2 2 2 2 0 0 0 0 0 1 1 1 1 1]\n"
     ]
    },
    {
     "name": "stderr",
     "output_type": "stream",
     "text": [
      "C:\\ProgramData\\Anaconda3\\envs\\tf_cpu\\lib\\site-packages\\sklearn\\preprocessing\\_label.py:115: DataConversionWarning: A column-vector y was passed when a 1d array was expected. Please change the shape of y to (n_samples, ), for example using ravel().\n",
      "  y = column_or_1d(y, warn=True)\n"
     ]
    }
   ],
   "source": [
    "from sklearn import preprocessing\n",
    "le = preprocessing.LabelEncoder() \n",
    "y_encoded = le.fit_transform(y_train)\n",
    "print(y_encoded)"
   ]
  },
  {
   "cell_type": "markdown",
   "id": "ea7d890f",
   "metadata": {},
   "source": [
    "#### train 시각화"
   ]
  },
  {
   "cell_type": "code",
   "execution_count": 40,
   "id": "2a8cb6a3",
   "metadata": {},
   "outputs": [],
   "source": [
    "from sklearn import tree\n",
    "\n",
    "clf = tree.DecisionTreeClassifier(random_state=35).fit(X_train, y_encoded) # 값을 통일하기 위해 매개변수 지정  # 모델 생성! "
   ]
  },
  {
   "cell_type": "code",
   "execution_count": 47,
   "id": "a6cc8d95",
   "metadata": {},
   "outputs": [
    {
     "name": "stdout",
     "output_type": "stream",
     "text": [
      "[1 2 3 4]\n",
      "[[1 2]\n",
      " [3 4]]\n",
      "[[1 3]\n",
      " [2 4]]\n",
      "[[1 2 3 4]]\n"
     ]
    }
   ],
   "source": [
    "x = np.array([1,2])\n",
    "y = np.array([3,4])\n",
    "\n",
    "print(np.r_[x,y]) # 1차원\n",
    "print(np.r_[[x],[y]]) # 행단위 결합\n",
    "print(np.c_[x,y]) # 열단위 결함. \n",
    "print(np.c_[[x],[y]]) # 2차원"
   ]
  },
  {
   "cell_type": "code",
   "execution_count": 60,
   "id": "b31e0856",
   "metadata": {},
   "outputs": [],
   "source": [
    "# pyplot은 숫자로 표현된 레이블을 시각화 할 수 있음.\n",
    "def display_decision_surface(clf, X, y) :\n",
    "    # 범위에 대한 최대, 최소 값을 지정\n",
    "    x_min = X.longitude.min() - 0.01\n",
    "    x_max = X.longitude.max() + 0.01    \n",
    "    y_min = X.latitude.min() - 0.01\n",
    "    y_max = X.latitude.max() + 0.01\n",
    "    \n",
    "    # 파라미터 설정 \n",
    "    n_classes = len(le.classes_) # lable의 카테고리 수가 반환.\n",
    "    plot_colors = 'rywb'\n",
    "    plot_step = 0.001 \n",
    "    \n",
    "    xx, yy = np.meshgrid(np.arange(x_min,x_max,plot_step),np.arange(y_min,y_max,plot_step))\n",
    "    \n",
    "    Z = clf.predict(np.c_[xx.ravel(),yy.ravel()])\n",
    "    Z = Z.reshape(xx.shape)\n",
    "    cs = plt.contourf(xx, yy, Z, cmap=plt.cm.RdYlBu)\n",
    "    \n",
    "    # 학습 데이터를 차트에 표시\n",
    "    for i, color in zip(range(n_classes), plot_colors) :\n",
    "        idx = np.where( y == i)\n",
    "        plt.scatter(X.loc[idx].longitude, X.loc[idx].latitude, c= color, label= le.classes_[i], cmap=plt.cm.RdYlBu, edgecolors='black'\n",
    "                   , s=200)\n",
    "        \n",
    "    # 차트제목\n",
    "    plt.title(\"Decision surface of a decision tree\", fontsize = 16)\n",
    "    # 차트 기호 설명\n",
    "    plt.legend(bbox_to_anchor=(1.05, 1), loc = 2, borderaxespad=0,fontsize=14)\n",
    "    # x축의 이름과 폰트 크기 설정\n",
    "    plt.xlabel('longitude', fontsize = 16)\n",
    "    # y축의 이름과 폰트 크기 설정\n",
    "    plt.ylabel('latitude', fontsize=16)    \n",
    "    # 차트 크기 설정\n",
    "    plt.rcParams['figure.figsize'] = [7, 5]\n",
    "    # x축 좌표상의 폰트 크기 조절\n",
    "    plt.rcParams['xtick.labelsize'] = 14\n",
    "    # y축 좌표상의 폰트 크기 조절\n",
    "    plt.rcParams['ytick.labelsize'] = 14\n",
    "        \n",
    "    #차트 그리기\n",
    "    plt.show()\n",
    "        "
   ]
  },
  {
   "cell_type": "markdown",
   "id": "65ae8ca1",
   "metadata": {},
   "source": [
    "### 파라미터 없이 학습한 모델의 결정 표면 시각화\n",
    "- 의사결정트리는 오버피팅(과대적합)되기 상당히 쉬운 모델임.\n",
    "- 별도의 파라미터를 설정해주지 않을 경우, 최대한 학습데이터에만 잘 맞게 모델이 형성\n",
    "- 아래 차트를 통해, 학습된 모델이 강남, 강북, 강동, 강서 지역 구분이라기 보다는, 단순히 학습데이터 구분에만 집중된 모델임을 볼 수 있다."
   ]
  },
  {
   "cell_type": "code",
   "execution_count": 61,
   "id": "eafc5f1f",
   "metadata": {},
   "outputs": [
    {
     "name": "stderr",
     "output_type": "stream",
     "text": [
      "C:\\ProgramData\\Anaconda3\\envs\\tf_cpu\\lib\\site-packages\\sklearn\\base.py:451: UserWarning: X does not have valid feature names, but DecisionTreeClassifier was fitted with feature names\n",
      "  \"X does not have valid feature names, but\"\n"
     ]
    },
    {
     "data": {
      "image/png": "[encoded data removed]",
      "text/plain": [
       "<Figure size 700x500 with 1 Axes>"
      ]
     },
     "metadata": {},
     "output_type": "display_data"
    }
   ],
   "source": [
    "display_decision_surface(clf, X_train, y_encoded)"
   ]
  },
  {
   "cell_type": "markdown",
   "id": "aac834d0",
   "metadata": {},
   "source": [
    "#### 파라미터 설정한 모델의 결정 표면 시각화\n",
    "- 오버피팅을 피하기 위해서 별도의 파라미터를 설정한 의사결정트리의 의사결정 표면 차트 생성\n",
    "- max_depth : 트리의 최대 한도 깊이\n",
    "- min_samples_split : 자식 노드를 갖기 위한 최소한의 데이터 갯수\n",
    "- min_samples_leaf : 맨 마지막 끝 노드의 최소 데이터 갯수 \n",
    "- ramdom_state : 여러번 실행해도, 파라미터가 같을 경우, 결과가 항상 같게 만들어주는 파라미터"
   ]
  },
  {
   "cell_type": "code",
   "execution_count": 63,
   "id": "142298c0",
   "metadata": {},
   "outputs": [
    {
     "name": "stderr",
     "output_type": "stream",
     "text": [
      "C:\\ProgramData\\Anaconda3\\envs\\tf_cpu\\lib\\site-packages\\sklearn\\base.py:451: UserWarning: X does not have valid feature names, but DecisionTreeClassifier was fitted with feature names\n",
      "  \"X does not have valid feature names, but\"\n"
     ]
    },
    {
     "data": {
      "image/png": "[encoded data removed]",
      "text/plain": [
       "<Figure size 700x500 with 1 Axes>"
      ]
     },
     "metadata": {},
     "output_type": "display_data"
    }
   ],
   "source": [
    "# clf = tree.DecisionTreeClassifier(random_state=35).fit(X_train, y_encoded) 이전코드\n",
    "clf = tree.DecisionTreeClassifier(random_state=35, max_depth=4, \n",
    "                                  min_samples_split=2, min_samples_leaf=2).fit(X_train, y_encoded) \n",
    "display_decision_surface(clf, X_train, y_encoded)"
   ]
  },
  {
   "cell_type": "code",
   "execution_count": 64,
   "id": "ad08b794",
   "metadata": {},
   "outputs": [
    {
     "name": "stderr",
     "output_type": "stream",
     "text": [
      "C:\\ProgramData\\Anaconda3\\envs\\tf_cpu\\lib\\site-packages\\sklearn\\base.py:451: UserWarning: X does not have valid feature names, but DecisionTreeClassifier was fitted with feature names\n",
      "  \"X does not have valid feature names, but\"\n"
     ]
    },
    {
     "data": {
      "image/png": "[encoded data removed]",
      "text/plain": [
       "<Figure size 700x500 with 1 Axes>"
      ]
     },
     "metadata": {},
     "output_type": "display_data"
    }
   ],
   "source": [
    "clf = tree.DecisionTreeClassifier(random_state=70, max_depth=4, \n",
    "                                  min_samples_split=2, min_samples_leaf=2).fit(X_train, y_encoded)  # 파라미터 수정\n",
    "display_decision_surface(clf, X_train, y_encoded)"
   ]
  },
  {
   "cell_type": "markdown",
   "id": "31569f35",
   "metadata": {},
   "source": [
    "#### 의사결정나무 시각화 \n",
    "- 의사결정나무 장점은 예측값이 어떤 식으로 판단되었는지 이해가 쉽다. \n",
    "- 다른 모델들에 비해, 큰 수학적인 지식이 없어도 시각화 그림을 보면, 어떨게 예측값이 도출 되었는지 쉽게 알 수 있다. "
   ]
  },
  {
   "cell_type": "code",
   "execution_count": 68,
   "id": "be95c8a5",
   "metadata": {},
   "outputs": [],
   "source": [
    "import graphviz #시각화를 위한 라이브러리"
   ]
  },
  {
   "cell_type": "code",
   "execution_count": 69,
   "id": "7dac97ac",
   "metadata": {},
   "outputs": [
    {
     "data": {
      "image/svg+xml": [
       "<?xml version=\"1.0\" encoding=\"UTF-8\" standalone=\"no\"?>\n",
       "<!DOCTYPE svg PUBLIC \"-//W3C//DTD SVG 1.1//EN\"\n",
       " \"http://www.w3.org/Graphics/SVG/1.1/DTD/svg11.dtd\">\n",
       "<!-- Generated by graphviz version 2.50.0 (0)\n",
       " -->\n",
       "<!-- Title: Tree Pages: 1 -->\n",
       "<svg width=\"421pt\" height=\"552pt\"\n",
       " viewBox=\"0.00 0.00 421.00 552.00\" xmlns=\"http://www.w3.org/2000/svg\" xmlns:xlink=\"http://www.w3.org/1999/xlink\">\n",
       "<g id=\"graph0\" class=\"graph\" transform=\"scale(1 1) rotate(0) translate(4 548)\">\n",
       "<title>Tree</title>\n",
       "<polygon fill=\"white\" stroke=\"transparent\" points=\"-4,4 -4,-548 417,-548 417,4 -4,4\"/>\n",
       "<!-- 0 -->\n",
       "<g id=\"node1\" class=\"node\">\n",
       "<title>0</title>\n",
       "<path fill=\"#ffffff\" stroke=\"black\" d=\"M189,-544C189,-544 78,-544 78,-544 72,-544 66,-538 66,-532 66,-532 66,-473 66,-473 66,-467 72,-461 78,-461 78,-461 189,-461 189,-461 195,-461 201,-467 201,-473 201,-473 201,-532 201,-532 201,-538 195,-544 189,-544\"/>\n",
       "<text text-anchor=\"start\" x=\"74\" y=\"-528.8\" font-family=\"Helvetica,sans-Serif\" font-size=\"14.00\">longitude ≤ 126.912</text>\n",
       "<text text-anchor=\"start\" x=\"101.5\" y=\"-513.8\" font-family=\"Helvetica,sans-Serif\" font-size=\"14.00\">gini = 0.75</text>\n",
       "<text text-anchor=\"start\" x=\"92.5\" y=\"-498.8\" font-family=\"Helvetica,sans-Serif\" font-size=\"14.00\">samples = 20</text>\n",
       "<text text-anchor=\"start\" x=\"79\" y=\"-483.8\" font-family=\"Helvetica,sans-Serif\" font-size=\"14.00\">value = [5, 5, 5, 5]</text>\n",
       "<text text-anchor=\"start\" x=\"82\" y=\"-468.8\" font-family=\"Helvetica,sans-Serif\" font-size=\"14.00\">class = Gangbuk</text>\n",
       "</g>\n",
       "<!-- 1 -->\n",
       "<g id=\"node2\" class=\"node\">\n",
       "<title>1</title>\n",
       "<path fill=\"#d739e5\" stroke=\"black\" d=\"M113,-417.5C113,-417.5 12,-417.5 12,-417.5 6,-417.5 0,-411.5 0,-405.5 0,-405.5 0,-361.5 0,-361.5 0,-355.5 6,-349.5 12,-349.5 12,-349.5 113,-349.5 113,-349.5 119,-349.5 125,-355.5 125,-361.5 125,-361.5 125,-405.5 125,-405.5 125,-411.5 119,-417.5 113,-417.5\"/>\n",
       "<text text-anchor=\"start\" x=\"34.5\" y=\"-402.3\" font-family=\"Helvetica,sans-Serif\" font-size=\"14.00\">gini = 0.0</text>\n",
       "<text text-anchor=\"start\" x=\"25\" y=\"-387.3\" font-family=\"Helvetica,sans-Serif\" font-size=\"14.00\">samples = 5</text>\n",
       "<text text-anchor=\"start\" x=\"8\" y=\"-372.3\" font-family=\"Helvetica,sans-Serif\" font-size=\"14.00\">value = [0, 0, 0, 5]</text>\n",
       "<text text-anchor=\"start\" x=\"11\" y=\"-357.3\" font-family=\"Helvetica,sans-Serif\" font-size=\"14.00\">class = Gangseo</text>\n",
       "</g>\n",
       "<!-- 0&#45;&gt;1 -->\n",
       "<g id=\"edge1\" class=\"edge\">\n",
       "<title>0&#45;&gt;1</title>\n",
       "<path fill=\"none\" stroke=\"black\" d=\"M108.87,-460.91C102.1,-449.76 94.76,-437.66 87.95,-426.44\"/>\n",
       "<polygon fill=\"black\" stroke=\"black\" points=\"90.81,-424.4 82.63,-417.67 84.82,-428.03 90.81,-424.4\"/>\n",
       "<text text-anchor=\"middle\" x=\"76.69\" y=\"-438.25\" font-family=\"Helvetica,sans-Serif\" font-size=\"14.00\">True</text>\n",
       "</g>\n",
       "<!-- 2 -->\n",
       "<g id=\"node3\" class=\"node\">\n",
       "<title>2</title>\n",
       "<path fill=\"#ffffff\" stroke=\"black\" d=\"M256,-425C256,-425 155,-425 155,-425 149,-425 143,-419 143,-413 143,-413 143,-354 143,-354 143,-348 149,-342 155,-342 155,-342 256,-342 256,-342 262,-342 268,-348 268,-354 268,-354 268,-413 268,-413 268,-419 262,-425 256,-425\"/>\n",
       "<text text-anchor=\"start\" x=\"155.5\" y=\"-409.8\" font-family=\"Helvetica,sans-Serif\" font-size=\"14.00\">latitude ≤ 37.525</text>\n",
       "<text text-anchor=\"start\" x=\"170\" y=\"-394.8\" font-family=\"Helvetica,sans-Serif\" font-size=\"14.00\">gini = 0.667</text>\n",
       "<text text-anchor=\"start\" x=\"164.5\" y=\"-379.8\" font-family=\"Helvetica,sans-Serif\" font-size=\"14.00\">samples = 15</text>\n",
       "<text text-anchor=\"start\" x=\"151\" y=\"-364.8\" font-family=\"Helvetica,sans-Serif\" font-size=\"14.00\">value = [5, 5, 5, 0]</text>\n",
       "<text text-anchor=\"start\" x=\"154\" y=\"-349.8\" font-family=\"Helvetica,sans-Serif\" font-size=\"14.00\">class = Gangbuk</text>\n",
       "</g>\n",
       "<!-- 0&#45;&gt;2 -->\n",
       "<g id=\"edge2\" class=\"edge\">\n",
       "<title>0&#45;&gt;2</title>\n",
       "<path fill=\"none\" stroke=\"black\" d=\"M158.48,-460.91C163.9,-452.1 169.68,-442.7 175.28,-433.61\"/>\n",
       "<polygon fill=\"black\" stroke=\"black\" points=\"178.3,-435.37 180.56,-425.02 172.34,-431.7 178.3,-435.37\"/>\n",
       "<text text-anchor=\"middle\" x=\"186.35\" y=\"-445.64\" font-family=\"Helvetica,sans-Serif\" font-size=\"14.00\">False</text>\n",
       "</g>\n",
       "<!-- 3 -->\n",
       "<g id=\"node4\" class=\"node\">\n",
       "<title>3</title>\n",
       "<path fill=\"#399de5\" stroke=\"black\" d=\"M184,-298.5C184,-298.5 83,-298.5 83,-298.5 77,-298.5 71,-292.5 71,-286.5 71,-286.5 71,-242.5 71,-242.5 71,-236.5 77,-230.5 83,-230.5 83,-230.5 184,-230.5 184,-230.5 190,-230.5 196,-236.5 196,-242.5 196,-242.5 196,-286.5 196,-286.5 196,-292.5 190,-298.5 184,-298.5\"/>\n",
       "<text text-anchor=\"start\" x=\"105.5\" y=\"-283.3\" font-family=\"Helvetica,sans-Serif\" font-size=\"14.00\">gini = 0.0</text>\n",
       "<text text-anchor=\"start\" x=\"96\" y=\"-268.3\" font-family=\"Helvetica,sans-Serif\" font-size=\"14.00\">samples = 5</text>\n",
       "<text text-anchor=\"start\" x=\"79\" y=\"-253.3\" font-family=\"Helvetica,sans-Serif\" font-size=\"14.00\">value = [0, 0, 5, 0]</text>\n",
       "<text text-anchor=\"start\" x=\"79.5\" y=\"-238.3\" font-family=\"Helvetica,sans-Serif\" font-size=\"14.00\">class = Gangnam</text>\n",
       "</g>\n",
       "<!-- 2&#45;&gt;3 -->\n",
       "<g id=\"edge3\" class=\"edge\">\n",
       "<title>2&#45;&gt;3</title>\n",
       "<path fill=\"none\" stroke=\"black\" d=\"M180.52,-341.91C173.66,-330.76 166.21,-318.66 159.31,-307.44\"/>\n",
       "<polygon fill=\"black\" stroke=\"black\" points=\"162.13,-305.35 153.91,-298.67 156.17,-309.02 162.13,-305.35\"/>\n",
       "</g>\n",
       "<!-- 4 -->\n",
       "<g id=\"node5\" class=\"node\">\n",
       "<title>4</title>\n",
       "<path fill=\"#ffffff\" stroke=\"black\" d=\"M327,-306C327,-306 226,-306 226,-306 220,-306 214,-300 214,-294 214,-294 214,-235 214,-235 214,-229 220,-223 226,-223 226,-223 327,-223 327,-223 333,-223 339,-229 339,-235 339,-235 339,-294 339,-294 339,-300 333,-306 327,-306\"/>\n",
       "<text text-anchor=\"start\" x=\"226.5\" y=\"-290.8\" font-family=\"Helvetica,sans-Serif\" font-size=\"14.00\">latitude ≤ 37.599</text>\n",
       "<text text-anchor=\"start\" x=\"248.5\" y=\"-275.8\" font-family=\"Helvetica,sans-Serif\" font-size=\"14.00\">gini = 0.5</text>\n",
       "<text text-anchor=\"start\" x=\"235.5\" y=\"-260.8\" font-family=\"Helvetica,sans-Serif\" font-size=\"14.00\">samples = 10</text>\n",
       "<text text-anchor=\"start\" x=\"222\" y=\"-245.8\" font-family=\"Helvetica,sans-Serif\" font-size=\"14.00\">value = [5, 5, 0, 0]</text>\n",
       "<text text-anchor=\"start\" x=\"225\" y=\"-230.8\" font-family=\"Helvetica,sans-Serif\" font-size=\"14.00\">class = Gangbuk</text>\n",
       "</g>\n",
       "<!-- 2&#45;&gt;4 -->\n",
       "<g id=\"edge4\" class=\"edge\">\n",
       "<title>2&#45;&gt;4</title>\n",
       "<path fill=\"none\" stroke=\"black\" d=\"M230.13,-341.91C235.47,-333.1 241.18,-323.7 246.7,-314.61\"/>\n",
       "<polygon fill=\"black\" stroke=\"black\" points=\"249.71,-316.39 251.91,-306.02 243.73,-312.75 249.71,-316.39\"/>\n",
       "</g>\n",
       "<!-- 5 -->\n",
       "<g id=\"node6\" class=\"node\">\n",
       "<title>5</title>\n",
       "<path fill=\"#91ef88\" stroke=\"black\" d=\"M258,-187C258,-187 147,-187 147,-187 141,-187 135,-181 135,-175 135,-175 135,-116 135,-116 135,-110 141,-104 147,-104 147,-104 258,-104 258,-104 264,-104 270,-110 270,-116 270,-116 270,-175 270,-175 270,-181 264,-187 258,-187\"/>\n",
       "<text text-anchor=\"start\" x=\"143\" y=\"-171.8\" font-family=\"Helvetica,sans-Serif\" font-size=\"14.00\">longitude ≤ 127.017</text>\n",
       "<text text-anchor=\"start\" x=\"167\" y=\"-156.8\" font-family=\"Helvetica,sans-Serif\" font-size=\"14.00\">gini = 0.408</text>\n",
       "<text text-anchor=\"start\" x=\"165\" y=\"-141.8\" font-family=\"Helvetica,sans-Serif\" font-size=\"14.00\">samples = 7</text>\n",
       "<text text-anchor=\"start\" x=\"148\" y=\"-126.8\" font-family=\"Helvetica,sans-Serif\" font-size=\"14.00\">value = [2, 5, 0, 0]</text>\n",
       "<text text-anchor=\"start\" x=\"147\" y=\"-111.8\" font-family=\"Helvetica,sans-Serif\" font-size=\"14.00\">class = Gangdong</text>\n",
       "</g>\n",
       "<!-- 4&#45;&gt;5 -->\n",
       "<g id=\"edge5\" class=\"edge\">\n",
       "<title>4&#45;&gt;5</title>\n",
       "<path fill=\"none\" stroke=\"black\" d=\"M250.83,-222.91C245.26,-214.1 239.31,-204.7 233.56,-195.61\"/>\n",
       "<polygon fill=\"black\" stroke=\"black\" points=\"236.43,-193.6 228.13,-187.02 230.52,-197.34 236.43,-193.6\"/>\n",
       "</g>\n",
       "<!-- 8 -->\n",
       "<g id=\"node9\" class=\"node\">\n",
       "<title>8</title>\n",
       "<path fill=\"#e58139\" stroke=\"black\" d=\"M401,-179.5C401,-179.5 300,-179.5 300,-179.5 294,-179.5 288,-173.5 288,-167.5 288,-167.5 288,-123.5 288,-123.5 288,-117.5 294,-111.5 300,-111.5 300,-111.5 401,-111.5 401,-111.5 407,-111.5 413,-117.5 413,-123.5 413,-123.5 413,-167.5 413,-167.5 413,-173.5 407,-179.5 401,-179.5\"/>\n",
       "<text text-anchor=\"start\" x=\"322.5\" y=\"-164.3\" font-family=\"Helvetica,sans-Serif\" font-size=\"14.00\">gini = 0.0</text>\n",
       "<text text-anchor=\"start\" x=\"313\" y=\"-149.3\" font-family=\"Helvetica,sans-Serif\" font-size=\"14.00\">samples = 3</text>\n",
       "<text text-anchor=\"start\" x=\"296\" y=\"-134.3\" font-family=\"Helvetica,sans-Serif\" font-size=\"14.00\">value = [3, 0, 0, 0]</text>\n",
       "<text text-anchor=\"start\" x=\"299\" y=\"-119.3\" font-family=\"Helvetica,sans-Serif\" font-size=\"14.00\">class = Gangbuk</text>\n",
       "</g>\n",
       "<!-- 4&#45;&gt;8 -->\n",
       "<g id=\"edge8\" class=\"edge\">\n",
       "<title>4&#45;&gt;8</title>\n",
       "<path fill=\"none\" stroke=\"black\" d=\"M302.17,-222.91C309.22,-211.76 316.88,-199.66 323.97,-188.44\"/>\n",
       "<polygon fill=\"black\" stroke=\"black\" points=\"327.14,-189.99 329.52,-179.67 321.22,-186.25 327.14,-189.99\"/>\n",
       "</g>\n",
       "<!-- 6 -->\n",
       "<g id=\"node7\" class=\"node\">\n",
       "<title>6</title>\n",
       "<path fill=\"#e58139\" stroke=\"black\" d=\"M181,-68C181,-68 80,-68 80,-68 74,-68 68,-62 68,-56 68,-56 68,-12 68,-12 68,-6 74,0 80,0 80,0 181,0 181,0 187,0 193,-6 193,-12 193,-12 193,-56 193,-56 193,-62 187,-68 181,-68\"/>\n",
       "<text text-anchor=\"start\" x=\"102.5\" y=\"-52.8\" font-family=\"Helvetica,sans-Serif\" font-size=\"14.00\">gini = 0.0</text>\n",
       "<text text-anchor=\"start\" x=\"93\" y=\"-37.8\" font-family=\"Helvetica,sans-Serif\" font-size=\"14.00\">samples = 2</text>\n",
       "<text text-anchor=\"start\" x=\"76\" y=\"-22.8\" font-family=\"Helvetica,sans-Serif\" font-size=\"14.00\">value = [2, 0, 0, 0]</text>\n",
       "<text text-anchor=\"start\" x=\"79\" y=\"-7.8\" font-family=\"Helvetica,sans-Serif\" font-size=\"14.00\">class = Gangbuk</text>\n",
       "</g>\n",
       "<!-- 5&#45;&gt;6 -->\n",
       "<g id=\"edge6\" class=\"edge\">\n",
       "<title>5&#45;&gt;6</title>\n",
       "<path fill=\"none\" stroke=\"black\" d=\"M175.69,-103.73C169.93,-94.97 163.84,-85.7 158.05,-76.91\"/>\n",
       "<polygon fill=\"black\" stroke=\"black\" points=\"160.81,-74.73 152.4,-68.3 154.97,-78.58 160.81,-74.73\"/>\n",
       "</g>\n",
       "<!-- 7 -->\n",
       "<g id=\"node8\" class=\"node\">\n",
       "<title>7</title>\n",
       "<path fill=\"#47e539\" stroke=\"black\" d=\"M326,-68C326,-68 223,-68 223,-68 217,-68 211,-62 211,-56 211,-56 211,-12 211,-12 211,-6 217,0 223,0 223,0 326,0 326,0 332,0 338,-6 338,-12 338,-12 338,-56 338,-56 338,-62 332,-68 326,-68\"/>\n",
       "<text text-anchor=\"start\" x=\"246.5\" y=\"-52.8\" font-family=\"Helvetica,sans-Serif\" font-size=\"14.00\">gini = 0.0</text>\n",
       "<text text-anchor=\"start\" x=\"237\" y=\"-37.8\" font-family=\"Helvetica,sans-Serif\" font-size=\"14.00\">samples = 5</text>\n",
       "<text text-anchor=\"start\" x=\"220\" y=\"-22.8\" font-family=\"Helvetica,sans-Serif\" font-size=\"14.00\">value = [0, 5, 0, 0]</text>\n",
       "<text text-anchor=\"start\" x=\"219\" y=\"-7.8\" font-family=\"Helvetica,sans-Serif\" font-size=\"14.00\">class = Gangdong</text>\n",
       "</g>\n",
       "<!-- 5&#45;&gt;7 -->\n",
       "<g id=\"edge7\" class=\"edge\">\n",
       "<title>5&#45;&gt;7</title>\n",
       "<path fill=\"none\" stroke=\"black\" d=\"M229.31,-103.73C235.07,-94.97 241.16,-85.7 246.95,-76.91\"/>\n",
       "<polygon fill=\"black\" stroke=\"black\" points=\"250.03,-78.58 252.6,-68.3 244.19,-74.73 250.03,-78.58\"/>\n",
       "</g>\n",
       "</g>\n",
       "</svg>\n"
      ],
      "text/plain": [
       "<graphviz.sources.Source at 0x18c9e4652c8>"
      ]
     },
     "execution_count": 69,
     "metadata": {},
     "output_type": "execute_result"
    }
   ],
   "source": [
    "dot_data = tree.export_graphviz(clf, out_file=None)\n",
    "graph = graphviz.Source(dot_data)\n",
    "graph.render(\"seoul\")\n",
    "\n",
    "dot_data = tree.export_graphviz(clf, out_file=None, \n",
    "                         feature_names=['longitude','latitude'],  \n",
    "                         class_names=['Gangbuk', 'Gangdong', 'Gangnam', 'Gangseo'],  \n",
    "                         filled=True, rounded=True,  \n",
    "                         special_characters=True)  \n",
    "graph = graphviz.Source(dot_data)  \n",
    "graph"
   ]
  },
  {
   "cell_type": "markdown",
   "id": "430f1add",
   "metadata": {},
   "source": [
    "**gini** : 불순도 척도, 0일 경우 -> 모든 샘플이 하나의 분류값을 갖으며, 1에 가까울 수록 여러 분류값이 한 노드에 존재.  \n",
    "**sample** : 노드안에 들어 있는 데이터의 갯수  \n",
    "**value** : 분류값 별 데이터의 갯수  \n",
    "**class** : 분류값"
   ]
  },
  {
   "cell_type": "markdown",
   "id": "5f56c7ee",
   "metadata": {},
   "source": [
    "## Test\n",
    "- 모델을 테스트"
   ]
  },
  {
   "cell_type": "code",
   "execution_count": 70,
   "id": "0c94f4fe",
   "metadata": {},
   "outputs": [
    {
     "name": "stdout",
     "output_type": "stream",
     "text": [
      "accuracy :  1.0\n"
     ]
    }
   ],
   "source": [
    "from sklearn.metrics import accuracy_score\n",
    "\n",
    "pred = clf.predict(X_test)\n",
    "print(\"accuracy : \", str(accuracy_score(y_test.values.ravel(), le.classes_[pred])))"
   ]
  },
  {
   "cell_type": "code",
   "execution_count": 71,
   "id": "5c8b156d",
   "metadata": {},
   "outputs": [
    {
     "data": {
      "text/html": [
       "<div>\n",
       "<style scoped>\n",
       "    .dataframe tbody tr th:only-of-type {\n",
       "        vertical-align: middle;\n",
       "    }\n",
       "\n",
       "    .dataframe tbody tr th {\n",
       "        vertical-align: top;\n",
       "    }\n",
       "\n",
       "    .dataframe thead th {\n",
       "        text-align: right;\n",
       "    }\n",
       "</style>\n",
       "<table border=\"1\" class=\"dataframe\">\n",
       "  <thead>\n",
       "    <tr style=\"text-align: right;\">\n",
       "      <th></th>\n",
       "      <th>prediction</th>\n",
       "      <th>tarket</th>\n",
       "    </tr>\n",
       "  </thead>\n",
       "  <tbody>\n",
       "    <tr>\n",
       "      <th>0</th>\n",
       "      <td>Gangseo</td>\n",
       "      <td>Gangseo</td>\n",
       "    </tr>\n",
       "    <tr>\n",
       "      <th>1</th>\n",
       "      <td>Gangseo</td>\n",
       "      <td>Gangseo</td>\n",
       "    </tr>\n",
       "    <tr>\n",
       "      <th>2</th>\n",
       "      <td>Gangseo</td>\n",
       "      <td>Gangseo</td>\n",
       "    </tr>\n",
       "    <tr>\n",
       "      <th>3</th>\n",
       "      <td>Gangseo</td>\n",
       "      <td>Gangseo</td>\n",
       "    </tr>\n",
       "    <tr>\n",
       "      <th>4</th>\n",
       "      <td>Gangseo</td>\n",
       "      <td>Gangseo</td>\n",
       "    </tr>\n",
       "    <tr>\n",
       "      <th>5</th>\n",
       "      <td>Gangnam</td>\n",
       "      <td>Gangnam</td>\n",
       "    </tr>\n",
       "    <tr>\n",
       "      <th>6</th>\n",
       "      <td>Gangnam</td>\n",
       "      <td>Gangnam</td>\n",
       "    </tr>\n",
       "    <tr>\n",
       "      <th>7</th>\n",
       "      <td>Gangnam</td>\n",
       "      <td>Gangnam</td>\n",
       "    </tr>\n",
       "    <tr>\n",
       "      <th>8</th>\n",
       "      <td>Gangnam</td>\n",
       "      <td>Gangnam</td>\n",
       "    </tr>\n",
       "    <tr>\n",
       "      <th>9</th>\n",
       "      <td>Gangnam</td>\n",
       "      <td>Gangnam</td>\n",
       "    </tr>\n",
       "    <tr>\n",
       "      <th>10</th>\n",
       "      <td>Gangbuk</td>\n",
       "      <td>Gangbuk</td>\n",
       "    </tr>\n",
       "    <tr>\n",
       "      <th>11</th>\n",
       "      <td>Gangbuk</td>\n",
       "      <td>Gangbuk</td>\n",
       "    </tr>\n",
       "    <tr>\n",
       "      <th>12</th>\n",
       "      <td>Gangbuk</td>\n",
       "      <td>Gangbuk</td>\n",
       "    </tr>\n",
       "    <tr>\n",
       "      <th>13</th>\n",
       "      <td>Gangbuk</td>\n",
       "      <td>Gangbuk</td>\n",
       "    </tr>\n",
       "    <tr>\n",
       "      <th>14</th>\n",
       "      <td>Gangbuk</td>\n",
       "      <td>Gangbuk</td>\n",
       "    </tr>\n",
       "    <tr>\n",
       "      <th>15</th>\n",
       "      <td>Gangdong</td>\n",
       "      <td>Gangdong</td>\n",
       "    </tr>\n",
       "    <tr>\n",
       "      <th>16</th>\n",
       "      <td>Gangdong</td>\n",
       "      <td>Gangdong</td>\n",
       "    </tr>\n",
       "    <tr>\n",
       "      <th>17</th>\n",
       "      <td>Gangdong</td>\n",
       "      <td>Gangdong</td>\n",
       "    </tr>\n",
       "    <tr>\n",
       "      <th>18</th>\n",
       "      <td>Gangdong</td>\n",
       "      <td>Gangdong</td>\n",
       "    </tr>\n",
       "    <tr>\n",
       "      <th>19</th>\n",
       "      <td>Gangdong</td>\n",
       "      <td>Gangdong</td>\n",
       "    </tr>\n",
       "  </tbody>\n",
       "</table>\n",
       "</div>"
      ],
      "text/plain": [
       "   prediction    tarket\n",
       "0     Gangseo   Gangseo\n",
       "1     Gangseo   Gangseo\n",
       "2     Gangseo   Gangseo\n",
       "3     Gangseo   Gangseo\n",
       "4     Gangseo   Gangseo\n",
       "5     Gangnam   Gangnam\n",
       "6     Gangnam   Gangnam\n",
       "7     Gangnam   Gangnam\n",
       "8     Gangnam   Gangnam\n",
       "9     Gangnam   Gangnam\n",
       "10    Gangbuk   Gangbuk\n",
       "11    Gangbuk   Gangbuk\n",
       "12    Gangbuk   Gangbuk\n",
       "13    Gangbuk   Gangbuk\n",
       "14    Gangbuk   Gangbuk\n",
       "15   Gangdong  Gangdong\n",
       "16   Gangdong  Gangdong\n",
       "17   Gangdong  Gangdong\n",
       "18   Gangdong  Gangdong\n",
       "19   Gangdong  Gangdong"
      ]
     },
     "execution_count": 71,
     "metadata": {},
     "output_type": "execute_result"
    }
   ],
   "source": [
    "comparison = pd.DataFrame({'prediction':le.classes_[pred], 'tarket':y_test.values.ravel()})\n",
    "comparison"
   ]
  }
 ],
 "metadata": {
  "kernelspec": {
   "display_name": "Python [conda env:tf_cpu] *",
   "language": "python",
   "name": "conda-env-tf_cpu-py"
  },
  "language_info": {
   "codemirror_mode": {
    "name": "ipython",
    "version": 3
   },
   "file_extension": ".py",
   "mimetype": "text/x-python",
   "name": "python",
   "nbconvert_exporter": "python",
   "pygments_lexer": "ipython3",
   "version": "3.7.13"
  }
 },
 "nbformat": 4,
 "nbformat_minor": 5
}
