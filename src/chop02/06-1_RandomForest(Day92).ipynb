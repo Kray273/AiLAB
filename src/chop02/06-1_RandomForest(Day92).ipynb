{
 "cells": [
  {
   "cell_type": "code",
   "execution_count": 6,
   "id": "06bb9373",
   "metadata": {},
   "outputs": [],
   "source": [
    "# 라이브러리 임포트\n",
    "import pandas as pd\n",
    "import numpy as np\n",
    "import matplotlib as plt\n",
    "\n",
    "np.random.seed(5) # 실습시 값을 고정하기 위해서! \n",
    "\n",
    "from sklearn import datasets\n",
    "from sklearn.tree import DecisionTreeClassifier # 랜포와의 비교를 위해 임포트\n",
    "from sklearn.ensemble import RandomForestClassifier\n",
    "\n",
    "from sklearn.model_selection import cross_val_score"
   ]
  },
  {
   "cell_type": "code",
   "execution_count": 7,
   "id": "5adcea45",
   "metadata": {},
   "outputs": [],
   "source": [
    "# 문제정의 : 손글씨 데이터를 분류하기"
   ]
  },
  {
   "cell_type": "code",
   "execution_count": 10,
   "id": "03fa6721",
   "metadata": {},
   "outputs": [],
   "source": [
    "# 데이터 수집 : 손글씨 데이터 로드\n",
    "mnist = datasets.load_digits()\n",
    "features, labels = mnist.data, mnist.target\n",
    "# 데이터가 이미지여서 불러오는게 무의미"
   ]
  },
  {
   "cell_type": "markdown",
   "id": "7dfe5a88",
   "metadata": {},
   "source": [
    "## 교차검증\n",
    "- 교차검증을 10번 수행해서, 10번의 교차검증 평균 정확도를 저장합니다."
   ]
  },
  {
   "cell_type": "code",
   "execution_count": 11,
   "id": "689118cd",
   "metadata": {},
   "outputs": [],
   "source": [
    "def cross_validation(classifier, features, labels) : # 의사결정나무와 랜덤포레스트 비교를 위한 함수\n",
    "    cv_scores = []\n",
    "    \n",
    "    for i in range(10) :\n",
    "        scores = cross_val_score(classifier, features, labels, cv=10, scoring='accuracy')\n",
    "        cv_scores.append(scores.mean())\n",
    "        \n",
    "    return cv_scores"
   ]
  },
  {
   "cell_type": "code",
   "execution_count": 21,
   "id": "ad708608",
   "metadata": {},
   "outputs": [
    {
     "data": {
      "text/plain": [
       "[0.831368715083799,\n",
       " 0.8241340782122905,\n",
       " 0.8319242706393546,\n",
       " 0.8252296710117939,\n",
       " 0.8269056486654252,\n",
       " 0.8174270639354437,\n",
       " 0.830822470515208,\n",
       " 0.8196710117939169,\n",
       " 0.8258007448789572,\n",
       " 0.8179919304779639]"
      ]
     },
     "execution_count": 21,
     "metadata": {},
     "output_type": "execute_result"
    }
   ],
   "source": [
    "dt_cv_scores = cross_validation(DecisionTreeClassifier(), features, labels)\n",
    "dt_cv_scores"
   ]
  },
  {
   "cell_type": "code",
   "execution_count": 22,
   "id": "a12cf741",
   "metadata": {},
   "outputs": [
    {
     "data": {
      "text/plain": [
       "[0.9521384233395406,\n",
       " 0.9488050900062073,\n",
       " 0.9465735567970205,\n",
       " 0.9515797641216635,\n",
       " 0.9471260086902544,\n",
       " 0.9482495344506517,\n",
       " 0.947687771570453,\n",
       " 0.947687771570453,\n",
       " 0.9449068901303537,\n",
       " 0.9504655493482309]"
      ]
     },
     "execution_count": 22,
     "metadata": {},
     "output_type": "execute_result"
    }
   ],
   "source": [
    "rf_cv_scores = cross_validation(RandomForestClassifier(), features, labels)\n",
    "rf_cv_scores"
   ]
  },
  {
   "cell_type": "markdown",
   "id": "182294a4",
   "metadata": {},
   "source": [
    "## 랜덤포레스트 VS 의사결정트리 시각화\n",
    "- 라인 차트를 통해 랜덤포레스트가 의사결정트리보다 매번 정확도가 높은 것을 확인"
   ]
  },
  {
   "cell_type": "code",
   "execution_count": 20,
   "id": "dfe6d13f",
   "metadata": {},
   "outputs": [
    {
     "data": {
      "text/plain": [
       "<AxesSubplot:>"
      ]
     },
     "execution_count": 20,
     "metadata": {},
     "output_type": "execute_result"
    },
    {
     "data": {
      "image/png": "[encoded data removed]",
      "text/plain": [
       "<Figure size 640x480 with 1 Axes>"
      ]
     },
     "metadata": {},
     "output_type": "display_data"
    }
   ],
   "source": [
    "cv_list = [\n",
    "            ['random_forest', rf_cv_scores],\n",
    "            ['decision_tree', dt_cv_scores]\n",
    "]\n",
    "\n",
    "df = pd.DataFrame.from_dict(dict(cv_list))\n",
    "df.plot()"
   ]
  },
  {
   "cell_type": "code",
   "execution_count": 23,
   "id": "d0f079a0",
   "metadata": {},
   "outputs": [
    {
     "data": {
      "text/plain": [
       "0.9485220360024827"
      ]
     },
     "execution_count": 23,
     "metadata": {},
     "output_type": "execute_result"
    }
   ],
   "source": [
    "#의사결정트리 정확도\n",
    "np.mean(rf_cv_scores)"
   ]
  },
  {
   "cell_type": "code",
   "execution_count": 24,
   "id": "cb4f7098",
   "metadata": {},
   "outputs": [
    {
     "data": {
      "text/plain": [
       "0.8251275605214152"
      ]
     },
     "execution_count": 24,
     "metadata": {},
     "output_type": "execute_result"
    }
   ],
   "source": [
    "np.mean(dt_cv_scores)"
   ]
  },
  {
   "cell_type": "code",
   "execution_count": null,
   "id": "e2c04783",
   "metadata": {},
   "outputs": [],
   "source": []
  }
 ],
 "metadata": {
  "kernelspec": {
   "display_name": "Python [conda env:tf_cpu] *",
   "language": "python",
   "name": "conda-env-tf_cpu-py"
  },
  "language_info": {
   "codemirror_mode": {
    "name": "ipython",
    "version": 3
   },
   "file_extension": ".py",
   "mimetype": "text/x-python",
   "name": "python",
   "nbconvert_exporter": "python",
   "pygments_lexer": "ipython3",
   "version": "3.7.13"
  }
 },
 "nbformat": 4,
 "nbformat_minor": 5
}
