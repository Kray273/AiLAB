{
 "cells": [
  {
   "cell_type": "markdown",
   "id": "902b2650",
   "metadata": {},
   "source": [
    "## 라이브러리 임포트\n",
    "- 실습에 필요한 라이브러리 임포트"
   ]
  },
  {
   "cell_type": "code",
   "execution_count": 1,
   "id": "2ed73a9b",
   "metadata": {},
   "outputs": [],
   "source": [
    "import numpy as np\n",
    "import pandas as pd\n",
    "import matplotlib.pyplot as plt\n",
    "import seaborn as sns"
   ]
  },
  {
   "cell_type": "markdown",
   "id": "d9ea0c94",
   "metadata": {},
   "source": [
    "## 데이터 불러오기(학습데이터, 테스트 데이터)\n",
    "- 데이터 분석 단계에서 생성한 농구 선수 포지션 예측하기의 학습 데이터 및 테스트 데이터를 로드 "
   ]
  },
  {
   "cell_type": "code",
   "execution_count": 2,
   "id": "acdf22ad",
   "metadata": {},
   "outputs": [],
   "source": [
    "train = pd.read_csv('data/csv/basketball_train.csv')\n",
    "test = pd.read_csv('data/csv/basketball_test.csv')"
   ]
  },
  {
   "cell_type": "markdown",
   "id": "ef0fb2f7",
   "metadata": {},
   "source": [
    "## SVM 최적의 파라미터 찾기\n",
    "- 1. C(cost, 비용) : 결정경계선의 마진을 결정하는 파라미터\n",
    "- 2. gamma : 커널의 데이터 포인트의 표준편차를 결정하는 파라미터."
   ]
  },
  {
   "cell_type": "markdown",
   "id": "071e4616",
   "metadata": {},
   "source": [
    "### sklearn에서 제공하는 gridsearch를 사용하면 손쉽게 최적의 c, gamma를 구할 수 있다. "
   ]
  },
  {
   "cell_type": "code",
   "execution_count": null,
   "id": "f2914277",
   "metadata": {},
   "outputs": [],
   "source": [
    "def svc_param_selection(X, y, nfolds) : \n",
    "    "
   ]
  }
 ],
 "metadata": {
  "kernelspec": {
   "display_name": "Python [conda env:tf_cpu] *",
   "language": "python",
   "name": "conda-env-tf_cpu-py"
  },
  "language_info": {
   "codemirror_mode": {
    "name": "ipython",
    "version": 3
   },
   "file_extension": ".py",
   "mimetype": "text/x-python",
   "name": "python",
   "nbconvert_exporter": "python",
   "pygments_lexer": "ipython3",
   "version": "3.7.13"
  }
 },
 "nbformat": 4,
 "nbformat_minor": 5
}
