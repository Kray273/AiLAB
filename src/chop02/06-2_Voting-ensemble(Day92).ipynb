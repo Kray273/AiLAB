{
 "cells": [
  {
   "cell_type": "markdown",
   "id": "37bb11b4",
   "metadata": {},
   "source": [
    "## 보팅 앙상블\n",
    "- 단일 모델을 앙상블하여 더 나은 예측을 하는 앙상블 모델을 만든다."
   ]
  },
  {
   "cell_type": "code",
   "execution_count": 1,
   "id": "82754141",
   "metadata": {},
   "outputs": [],
   "source": [
    "# 임포트\n",
    "from sklearn import datasets\n",
    "from sklearn.tree import DecisionTreeClassifier\n",
    "from sklearn.neighbors import KNeighborsClassifier\n",
    "from sklearn.svm import SVC\n",
    "from sklearn.ensemble import VotingClassifier\n",
    "from sklearn.model_selection import train_test_split\n",
    "from sklearn.metrics import accuracy_score\n",
    "\n",
    "import pandas as pd\n",
    "import numpy as np\n",
    "\n",
    "np.random.seed(5)"
   ]
  },
  {
   "cell_type": "code",
   "execution_count": 2,
   "id": "fa2560f3",
   "metadata": {},
   "outputs": [],
   "source": [
    "#손글씨 데이터 로드\n",
    "mnist = datasets.load_digits()\n",
    "features, labels = mnist.data, mnist.target\n",
    "\n",
    "X_train, X_test, y_train, y_test = train_test_split(features, labels, test_size=0.2)"
   ]
  },
  {
   "cell_type": "markdown",
   "id": "b8b9490e",
   "metadata": {},
   "source": [
    "## 단일 모델 정확도 측정\n",
    "- 의사결정 트리, knn, svm 모델의 정확도를 측정"
   ]
  },
  {
   "cell_type": "code",
   "execution_count": 3,
   "id": "8585282a",
   "metadata": {},
   "outputs": [],
   "source": [
    "dtree = DecisionTreeClassifier(criterion='gini', max_depth=8, max_features=32, random_state=35)\n",
    "dtree.fit(X_train,y_train)\n",
    "dtree_pred = dtree.predict(X_test)"
   ]
  },
  {
   "cell_type": "code",
   "execution_count": 4,
   "id": "025169a6",
   "metadata": {},
   "outputs": [],
   "source": [
    "knn = KNeighborsClassifier(n_neighbors=299).fit(X_train, y_train) # MAX의 결과 299\n",
    "knn_pred = knn.predict(X_test)"
   ]
  },
  {
   "cell_type": "code",
   "execution_count": 5,
   "id": "392a236c",
   "metadata": {},
   "outputs": [],
   "source": [
    "svm = SVC(C=0.1,gamma=0.003, probability=True, random_state=35 ).fit(X_train, y_train) # GridSearch의 결과 C=0.1,gamma=0.003\n",
    "svm_pred = svm.predict(X_test)"
   ]
  },
  {
   "cell_type": "code",
   "execution_count": 8,
   "id": "3205dd72",
   "metadata": {},
   "outputs": [
    {
     "name": "stdout",
     "output_type": "stream",
     "text": [
      "[accuracy]\n",
      "Dtree :  0.8277777777777777\n",
      "KNN   :  0.8944444444444445\n",
      "SVM   :  0.8916666666666667\n"
     ]
    }
   ],
   "source": [
    "print('[accuracy]')\n",
    "print('Dtree : ',accuracy_score(y_test,dtree_pred))\n",
    "print('KNN   : ',accuracy_score(y_test,knn_pred))\n",
    "print('SVM   : ',accuracy_score(y_test,svm_pred))"
   ]
  },
  {
   "cell_type": "markdown",
   "id": "7cad5b17",
   "metadata": {},
   "source": [
    "#### 소프트 보팅 구현(predict_proba())함수를 사용하여 테스트 수행 시 측정된 분류값별 확률 사용"
   ]
  },
  {
   "cell_type": "code",
   "execution_count": 9,
   "id": "6ea268a1",
   "metadata": {},
   "outputs": [
    {
     "name": "stdout",
     "output_type": "stream",
     "text": [
      "[Dtree]\n",
      "[[0.         0.         0.         0.         0.         1.\n",
      "  0.         0.         0.         0.        ]\n",
      " [0.01298701 0.05194805 0.05194805 0.         0.         0.\n",
      "  0.         0.         0.85714286 0.02597403]]\n",
      "[KNN]\n",
      "[[0.02675585 0.09364548 0.06354515 0.0367893  0.05016722 0.37458194\n",
      "  0.01672241 0.13712375 0.16053512 0.04013378]\n",
      " [0.01003344 0.17391304 0.40468227 0.0735786  0.00668896 0.00334448\n",
      "  0.04682274 0.06020067 0.16722408 0.05351171]]\n",
      "[SVM]\n",
      "[[0.00129293 0.00434548 0.00446459 0.00248053 0.00336731 0.93848315\n",
      "  0.00127073 0.00448341 0.02477231 0.01503956]\n",
      " [0.00189233 0.00631647 0.92958418 0.00345522 0.0030971  0.00828454\n",
      "  0.00186869 0.0048112  0.03092707 0.0097632 ]]\n"
     ]
    }
   ],
   "source": [
    "dtree_proba = dtree.predict_proba(X_test)\n",
    "print('[Dtree]')\n",
    "print(dtree_proba[0:2])\n",
    "knn_proba = knn.predict_proba(X_test)\n",
    "print('[KNN]')\n",
    "print(knn_proba[0:2])\n",
    "svm_proba = svm.predict_proba(X_test)\n",
    "print('[SVM]')\n",
    "print(svm_proba[0:2])"
   ]
  },
  {
   "cell_type": "markdown",
   "id": "0efdd816",
   "metadata": {},
   "source": [
    "## 하드보팅\n",
    "- 하드 보팅은 일반적인 투표와 같이, 각각의 분류기의 예측값 중 최빈값을 선택(가장 많은 득표)"
   ]
  },
  {
   "cell_type": "code",
   "execution_count": 13,
   "id": "23f0b608",
   "metadata": {},
   "outputs": [
    {
     "name": "stdout",
     "output_type": "stream",
     "text": [
      "VotingClassifier(estimators=[('decision_tree',\n",
      "                              DecisionTreeClassifier(max_depth=8,\n",
      "                                                     max_features=32,\n",
      "                                                     random_state=35)),\n",
      "                             ('KNN', KNeighborsClassifier(n_neighbors=299)),\n",
      "                             ('SVM',\n",
      "                              SVC(C=0.1, gamma=0.003, probability=True,\n",
      "                                  random_state=35))],\n",
      "                 weights=[1, 1, 1])\n",
      "accuracy :  0.9222222222222223\n"
     ]
    }
   ],
   "source": [
    "voting_clf = VotingClassifier(estimators=[('decision_tree',dtree),('KNN',knn),('SVM',svm)],\n",
    "                              weights=[1,1,1],voting='hard').fit(X_train, y_train)\n",
    "print(voting_clf)\n",
    "hard_voting_pred = voting_clf.predict(X_test)\n",
    "print('accuracy : ', accuracy_score(y_test,hard_voting_pred))"
   ]
  },
  {
   "cell_type": "markdown",
   "id": "13af74a1",
   "metadata": {},
   "source": [
    "## 소프트보팅\n",
    "- 각각의 분류모델의 predict_proba()을 활용 하여, 모든 분류값들의 확률을 더해서, 가장 높은 점수를 획득한 분류값으로 최종 결론을 내는 방식이다."
   ]
  },
  {
   "cell_type": "code",
   "execution_count": 14,
   "id": "56fb5654",
   "metadata": {},
   "outputs": [
    {
     "name": "stdout",
     "output_type": "stream",
     "text": [
      "VotingClassifier(estimators=[('decision_tree',\n",
      "                              DecisionTreeClassifier(max_depth=8,\n",
      "                                                     max_features=32,\n",
      "                                                     random_state=35)),\n",
      "                             ('KNN', KNeighborsClassifier(n_neighbors=299)),\n",
      "                             ('SVM',\n",
      "                              SVC(C=0.1, gamma=0.003, probability=True,\n",
      "                                  random_state=35))],\n",
      "                 voting='soft', weights=[1, 1, 1])\n",
      "accuracy :  0.8888888888888888\n"
     ]
    }
   ],
   "source": [
    "voting_clf = VotingClassifier(estimators=[('decision_tree',dtree),('KNN',knn),('SVM',svm)],\n",
    "                              weights=[1,1,1],voting='soft').fit(X_train, y_train)\n",
    "print(voting_clf)\n",
    "soft_voting_pred = voting_clf.predict(X_test)\n",
    "print('accuracy : ', accuracy_score(y_test,soft_voting_pred))"
   ]
  },
  {
   "cell_type": "markdown",
   "id": "9be0f392",
   "metadata": {},
   "source": [
    "## 정확도 비교 시각화"
   ]
  },
  {
   "cell_type": "code",
   "execution_count": 16,
   "id": "9726a095",
   "metadata": {},
   "outputs": [
    {
     "data": {
      "text/plain": [
       "([<matplotlib.axis.XTick at 0x21257d8a408>,\n",
       "  <matplotlib.axis.XTick at 0x2125c0cb688>,\n",
       "  <matplotlib.axis.XTick at 0x2125befe548>,\n",
       "  <matplotlib.axis.XTick at 0x2125c2914c8>,\n",
       "  <matplotlib.axis.XTick at 0x2125c2c8ac8>],\n",
       " [Text(0, 0, 'DecisionTree'),\n",
       "  Text(1, 0, 'KNN'),\n",
       "  Text(2, 0, 'SVM'),\n",
       "  Text(3, 0, 'hard_voting'),\n",
       "  Text(4, 0, 'soft_voting')])"
      ]
     },
     "execution_count": 16,
     "metadata": {},
     "output_type": "execute_result"
    },
    {
     "data": {
      "image/png": "[encoded data removed]",
      "text/plain": [
       "<Figure size 640x480 with 1 Axes>"
      ]
     },
     "metadata": {},
     "output_type": "display_data"
    }
   ],
   "source": [
    "import matplotlib.pyplot as plt\n",
    "\n",
    "x = np.arange(5)\n",
    "plt.bar(x, height= [accuracy_score(y_test,dtree_pred),\n",
    "                   accuracy_score(y_test,knn_pred),\n",
    "                   accuracy_score(y_test,svm_pred),\n",
    "                   accuracy_score(y_test,hard_voting_pred),\n",
    "                   accuracy_score(y_test,soft_voting_pred)])\n",
    "\n",
    "plt.xticks(x,['DecisionTree','KNN','SVM','hard_voting','soft_voting'])\n"
   ]
  },
  {
   "cell_type": "code",
   "execution_count": null,
   "id": "56170d56",
   "metadata": {},
   "outputs": [],
   "source": []
  }
 ],
 "metadata": {
  "kernelspec": {
   "display_name": "Python [conda env:tf_cpu] *",
   "language": "python",
   "name": "conda-env-tf_cpu-py"
  },
  "language_info": {
   "codemirror_mode": {
    "name": "ipython",
    "version": 3
   },
   "file_extension": ".py",
   "mimetype": "text/x-python",
   "name": "python",
   "nbconvert_exporter": "python",
   "pygments_lexer": "ipython3",
   "version": "3.7.13"
  }
 },
 "nbformat": 4,
 "nbformat_minor": 5
}
